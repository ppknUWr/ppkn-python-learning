{
 "cells": [
  {
   "cell_type": "markdown",
   "metadata": {},
   "source": [
    "### Programowanie obiektowe\n",
    "\n",
    "To jeden z podstawowych paradygmatów programowania w obecnych czasach. Programowanie obiektowe to znaczy takie, w którym program definiujemy za pomocą jakiś obiektów. Obiekt taki w Pythonie jest nazywany klasą i składa się z **danych** i **metod**."
   ]
  },
  {
   "cell_type": "markdown",
   "metadata": {},
   "source": [
    "### Definicja klasy\n",
    "\n",
    "Zdefiniujmy sobie przykładową klasę, razem z komentarzem."
   ]
  },
  {
   "cell_type": "code",
   "execution_count": null,
   "metadata": {},
   "outputs": [],
   "source": [
    "class PrzykladowaKlasa:\n",
    "    \"\"\"Przykładowa klasa na potrzeby nauki\"\"\"\n",
    "    ile_mam_lat = 2 # To jest pole/dane\n",
    "    \n",
    "    def zrob_cos(self):\n",
    "        \"\"\"Metoda klasy na potrzeby nauki\n",
    "        @param - Nie przyjmuje zadnych parametrow (None)\n",
    "        @return - Nie zwraca zadnych parametrow (None)\n",
    "        \n",
    "        \"\"\"\n",
    "        print(\"Jestem zrob cosiem\")"
   ]
  },
  {
   "cell_type": "markdown",
   "metadata": {},
   "source": [
    "### Instancja klasy\n",
    "\n",
    "Instancją klasy nazywany jest obiekt, który został stworzony na podstawie informacji, jakie dostarcza nam klasa. sprawdźmy, jak to zrobić w Pythonie"
   ]
  },
  {
   "cell_type": "code",
   "execution_count": null,
   "metadata": {},
   "outputs": [],
   "source": [
    "przykladowa_klasa = PrzykladowaKlasa() # Tworzymy nową instancję obiektu PrzykladowaKlasa"
   ]
  },
  {
   "cell_type": "code",
   "execution_count": null,
   "metadata": {},
   "outputs": [],
   "source": [
    "przykladowa_klasa.__class__ # Za pomocą metody __class__ możemy sprawdzić, z jakiego obiektu została utworzona instancja"
   ]
  },
  {
   "cell_type": "code",
   "execution_count": null,
   "metadata": {},
   "outputs": [],
   "source": [
    "type(przykladowa_klasa) # Również pozwala sprawdzić, z jakiego obiektu została utworzona instancja"
   ]
  },
  {
   "cell_type": "code",
   "execution_count": null,
   "metadata": {},
   "outputs": [],
   "source": [
    "help(przykladowa_klasa)"
   ]
  },
  {
   "cell_type": "markdown",
   "metadata": {},
   "source": [
    "### Metody i Pola\n",
    "\n",
    "Aby dostać się do metody i pola instniejącej instacji wystarczy użyć nazwa_instancji.nazwa_metody(), lub nazwa_instancji.pole"
   ]
  },
  {
   "cell_type": "code",
   "execution_count": null,
   "metadata": {},
   "outputs": [],
   "source": [
    "przykladowa_klasa.zrob_cos()"
   ]
  },
  {
   "cell_type": "code",
   "execution_count": null,
   "metadata": {},
   "outputs": [],
   "source": [
    "help(przykladowa_klasa.zrob_cos())"
   ]
  },
  {
   "cell_type": "code",
   "execution_count": null,
   "metadata": {},
   "outputs": [],
   "source": [
    "przykladowa_klasa.ile_mam_lat # Spodziewamy sie wartosci 2"
   ]
  }
 ],
 "metadata": {
  "kernelspec": {
   "display_name": "Python 3",
   "language": "python",
   "name": "python3"
  },
  "language_info": {
   "codemirror_mode": {
    "name": "ipython",
    "version": 3
   },
   "file_extension": ".py",
   "mimetype": "text/x-python",
   "name": "python",
   "nbconvert_exporter": "python",
   "pygments_lexer": "ipython3",
   "version": "3.8.0"
  }
 },
 "nbformat": 4,
 "nbformat_minor": 4
}
