{
 "cells": [
  {
   "cell_type": "markdown",
   "metadata": {},
   "source": [
    "### Dziedziczenie\n",
    "\n",
    "W Pythonie mamy możliwość dziedziczenia po sobie klas. Oznacza to, że możemy zdefiniować sobie klasę Zwierzę z polem gatunek, a następnie stworzyć kolejną klasę - Pies, która dziedziczy po klasie Zwierze. Klasa Pies przejmie wtedy po klasie Zwierze dostęp do pola gatunek."
   ]
  },
  {
   "cell_type": "code",
   "execution_count": 2,
   "metadata": {},
   "outputs": [],
   "source": [
    "# Definicja klasy Zwierze\n",
    "class Zwierze:\n",
    "    \n",
    "    def __init__(self, gatunek):\n",
    "        self.gatunek = gatunek\n",
    "\n",
    "    def get_gatunek(self):\n",
    "        print(f\"Jestem gatunku {self.gatunek}\")"
   ]
  },
  {
   "cell_type": "code",
   "execution_count": 3,
   "metadata": {},
   "outputs": [],
   "source": [
    "# Definicja klasy Pies\n",
    "class Pies(Zwierze):\n",
    "    \n",
    "    def __init__(self, imie):\n",
    "        self.imie = imie\n",
    "        super().__init__(\"Ssak\") # Wywołanie konstruktora, po którym dziedziczy klasa Pies.\n",
    "        \n",
    "    def dzwiek(self):\n",
    "        print (f\"Jestem {type(self).__name__} i wydaje dzwiek: hau\")\n",
    "        \n",
    "    def double_dzwiek(self):\n",
    "        self.dzwiek()\n",
    "        self.dzwiek()"
   ]
  },
  {
   "cell_type": "code",
   "execution_count": 5,
   "metadata": {},
   "outputs": [],
   "source": [
    "pies_przyklad = Pies(\"Burek\")"
   ]
  },
  {
   "cell_type": "code",
   "execution_count": 6,
   "metadata": {},
   "outputs": [
    {
     "data": {
      "text/plain": [
       "{'imie': 'Burek', 'gatunek': 'Ssak'}"
      ]
     },
     "execution_count": 6,
     "metadata": {},
     "output_type": "execute_result"
    }
   ],
   "source": [
    "pies_przyklad.__dict__"
   ]
  },
  {
   "cell_type": "code",
   "execution_count": 7,
   "metadata": {},
   "outputs": [
    {
     "data": {
      "text/plain": [
       "'Ssak'"
      ]
     },
     "execution_count": 7,
     "metadata": {},
     "output_type": "execute_result"
    }
   ],
   "source": [
    "pies_przyklad.gatunek"
   ]
  },
  {
   "cell_type": "code",
   "execution_count": 8,
   "metadata": {},
   "outputs": [
    {
     "data": {
      "text/plain": [
       "((object,), (__main__.Zwierze,))"
      ]
     },
     "execution_count": 8,
     "metadata": {},
     "output_type": "execute_result"
    }
   ],
   "source": [
    "Zwierze.__bases__, Pies.__bases__ # Sprawdzenie, po czym dziedziczą klasy Zwierze i Pies"
   ]
  },
  {
   "cell_type": "code",
   "execution_count": 9,
   "metadata": {},
   "outputs": [
    {
     "name": "stdout",
     "output_type": "stream",
     "text": [
      "Jestem Pies i wydaje dzwiek: hau\n"
     ]
    }
   ],
   "source": [
    "pies_przyklad.dzwiek()"
   ]
  },
  {
   "cell_type": "code",
   "execution_count": 10,
   "metadata": {},
   "outputs": [
    {
     "name": "stdout",
     "output_type": "stream",
     "text": [
      "Jestem Pies i wydaje dzwiek: hau\n",
      "Jestem Pies i wydaje dzwiek: hau\n"
     ]
    }
   ],
   "source": [
    "pies_przyklad.double_dzwiek()"
   ]
  },
  {
   "cell_type": "code",
   "execution_count": 12,
   "metadata": {},
   "outputs": [
    {
     "name": "stdout",
     "output_type": "stream",
     "text": [
      "Jestem gatunku Ssak\n"
     ]
    }
   ],
   "source": [
    "pies_przyklad.get_gatunek()"
   ]
  },
  {
   "cell_type": "code",
   "execution_count": 14,
   "metadata": {},
   "outputs": [
    {
     "data": {
      "text/plain": [
       "mappingproxy({'__module__': '__main__',\n",
       "              '__init__': <function __main__.Zwierze.__init__(self, gatunek)>,\n",
       "              'get_gatunek': <function __main__.Zwierze.get_gatunek(self)>,\n",
       "              '__dict__': <attribute '__dict__' of 'Zwierze' objects>,\n",
       "              '__weakref__': <attribute '__weakref__' of 'Zwierze' objects>,\n",
       "              '__doc__': None})"
      ]
     },
     "execution_count": 14,
     "metadata": {},
     "output_type": "execute_result"
    }
   ],
   "source": [
    "Zwierze.__dict__"
   ]
  },
  {
   "cell_type": "code",
   "execution_count": 15,
   "metadata": {},
   "outputs": [
    {
     "data": {
      "text/plain": [
       "mappingproxy({'__module__': '__main__',\n",
       "              '__init__': <function __main__.Pies.__init__(self, imie)>,\n",
       "              'dzwiek': <function __main__.Pies.dzwiek(self)>,\n",
       "              'double_dzwiek': <function __main__.Pies.double_dzwiek(self)>,\n",
       "              '__doc__': None})"
      ]
     },
     "execution_count": 15,
     "metadata": {},
     "output_type": "execute_result"
    }
   ],
   "source": [
    "Pies.__dict__"
   ]
  },
  {
   "cell_type": "code",
   "execution_count": 16,
   "metadata": {},
   "outputs": [
    {
     "data": {
      "text/plain": [
       "__main__.Pies"
      ]
     },
     "execution_count": 16,
     "metadata": {},
     "output_type": "execute_result"
    }
   ],
   "source": [
    "Pies"
   ]
  },
  {
   "cell_type": "code",
   "execution_count": null,
   "metadata": {},
   "outputs": [],
   "source": []
  }
 ],
 "metadata": {
  "kernelspec": {
   "display_name": "Python 3",
   "language": "python",
   "name": "python3"
  },
  "language_info": {
   "codemirror_mode": {
    "name": "ipython",
    "version": 3
   },
   "file_extension": ".py",
   "mimetype": "text/x-python",
   "name": "python",
   "nbconvert_exporter": "python",
   "pygments_lexer": "ipython3",
   "version": "3.8.0"
  }
 },
 "nbformat": 4,
 "nbformat_minor": 4
}
