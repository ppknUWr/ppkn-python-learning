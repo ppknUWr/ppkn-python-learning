{
 "cells": [
  {
   "cell_type": "markdown",
   "metadata": {},
   "source": [
    "### Classmethod i Staticmethod\n",
    "\n",
    "Generalnie w programowaniu obiektowym w Pythonie musimy czasami zdefinować jakąś funkcję, która nie będzie wpływana tylko na instancje, a całą klasę, oraz funkcję, która nie przyjmuje ani klasy, ani instancji jako argument.\n",
    "\n",
    "Co to znaczy?"
   ]
  },
  {
   "cell_type": "code",
   "execution_count": 1,
   "metadata": {},
   "outputs": [
    {
     "name": "stdout",
     "output_type": "stream",
     "text": [
      "The history saving thread hit an unexpected error (DatabaseError('database disk image is malformed')).History will not be written to the database.\n"
     ]
    }
   ],
   "source": [
    "class Pracownik():\n",
    "    \n",
    "    wzrost_pensji_po_roku = 1.03\n",
    "    \n",
    "    def __init__(self, imie, nazwisko, wyplata):\n",
    "        self.imie = imie\n",
    "        self.nazwisko = nazwisko\n",
    "        self.wyplata = wyplata\n",
    "        \n",
    "    def imie_i_nazwisko(self):\n",
    "        return f\"{self.imie} {self.nazwisko}\""
   ]
  },
  {
   "cell_type": "code",
   "execution_count": 3,
   "metadata": {},
   "outputs": [],
   "source": [
    "pracownik_1 = Pracownik(\"Jan\", \"Kowalski\", 4500)"
   ]
  },
  {
   "cell_type": "code",
   "execution_count": 4,
   "metadata": {},
   "outputs": [],
   "source": [
    "pracownik_2 = Pracownik(\"Mariusz\", \"Wisniewski\", 5000)"
   ]
  },
  {
   "cell_type": "code",
   "execution_count": 5,
   "metadata": {},
   "outputs": [
    {
     "data": {
      "text/plain": [
       "'Jan Kowalski'"
      ]
     },
     "execution_count": 5,
     "metadata": {},
     "output_type": "execute_result"
    }
   ],
   "source": [
    "pracownik_1.imie_i_nazwisko()"
   ]
  },
  {
   "cell_type": "code",
   "execution_count": 6,
   "metadata": {},
   "outputs": [
    {
     "data": {
      "text/plain": [
       "1.03"
      ]
     },
     "execution_count": 6,
     "metadata": {},
     "output_type": "execute_result"
    }
   ],
   "source": [
    "pracownik_1.wzrost_pensji_po_roku"
   ]
  },
  {
   "cell_type": "code",
   "execution_count": 12,
   "metadata": {},
   "outputs": [],
   "source": [
    "class Pracownik():\n",
    "    \n",
    "    wzrost_pensji_po_roku = 1.03\n",
    "    \n",
    "    def __init__(self, imie, nazwisko, wyplata):\n",
    "        self.imie = imie\n",
    "        self.nazwisko = nazwisko\n",
    "        self.wyplata = wyplata\n",
    "        \n",
    "    def imie_i_nazwisko(self):\n",
    "        return f\"{self.imie} {self.nazwisko}\"\n",
    "    \n",
    "    @classmethod\n",
    "    def ustaw_pensje_po_roku(cls, nowa_wartosc):\n",
    "        cls.wzrost_pensji_po_roku = nowa_wartosc"
   ]
  },
  {
   "cell_type": "code",
   "execution_count": 13,
   "metadata": {},
   "outputs": [],
   "source": [
    "pracownik_1 = Pracownik(\"Jan\", \"Kowalski\", 4500)"
   ]
  },
  {
   "cell_type": "code",
   "execution_count": 14,
   "metadata": {},
   "outputs": [],
   "source": [
    "pracownik_2 = Pracownik(\"Mariusz\", \"Wisniewski\", 5000)"
   ]
  },
  {
   "cell_type": "code",
   "execution_count": 15,
   "metadata": {},
   "outputs": [
    {
     "data": {
      "text/plain": [
       "1.03"
      ]
     },
     "execution_count": 15,
     "metadata": {},
     "output_type": "execute_result"
    }
   ],
   "source": [
    "pracownik_1.wzrost_pensji_po_roku"
   ]
  },
  {
   "cell_type": "code",
   "execution_count": 16,
   "metadata": {},
   "outputs": [
    {
     "data": {
      "text/plain": [
       "1.03"
      ]
     },
     "execution_count": 16,
     "metadata": {},
     "output_type": "execute_result"
    }
   ],
   "source": [
    "pracownik_2.wzrost_pensji_po_roku"
   ]
  },
  {
   "cell_type": "code",
   "execution_count": 17,
   "metadata": {},
   "outputs": [],
   "source": [
    "Pracownik.ustaw_pensje_po_roku(1.05)"
   ]
  },
  {
   "cell_type": "code",
   "execution_count": 18,
   "metadata": {},
   "outputs": [
    {
     "data": {
      "text/plain": [
       "1.05"
      ]
     },
     "execution_count": 18,
     "metadata": {},
     "output_type": "execute_result"
    }
   ],
   "source": [
    "pracownik_1.wzrost_pensji_po_roku"
   ]
  },
  {
   "cell_type": "code",
   "execution_count": 19,
   "metadata": {},
   "outputs": [
    {
     "data": {
      "text/plain": [
       "1.05"
      ]
     },
     "execution_count": 19,
     "metadata": {},
     "output_type": "execute_result"
    }
   ],
   "source": [
    "pracownik_2.wzrost_pensji_po_roku"
   ]
  },
  {
   "cell_type": "code",
   "execution_count": 24,
   "metadata": {},
   "outputs": [],
   "source": [
    "class Pracownik():\n",
    "    \n",
    "    wzrost_pensji_po_roku = 1.03\n",
    "    \n",
    "    def __init__(self, imie, nazwisko, wyplata):\n",
    "        self.imie = imie\n",
    "        self.nazwisko = nazwisko\n",
    "        self.wyplata = wyplata\n",
    "        \n",
    "    def imie_i_nazwisko(self):\n",
    "        return f\"{self.imie} {self.nazwisko}\"\n",
    "    \n",
    "    @classmethod\n",
    "    def ustaw_pensje_po_roku(cls, nowa_wartosc):\n",
    "        cls.wzrost_pensji_po_roku = nowa_wartosc\n",
    "        \n",
    "    @staticmethod\n",
    "    def czy_dzien_pracy(dzien):\n",
    "        return False if dzien.weekday() == 5 or dzien.weekday() == 6 else True"
   ]
  },
  {
   "cell_type": "code",
   "execution_count": 21,
   "metadata": {},
   "outputs": [],
   "source": [
    "import datetime"
   ]
  },
  {
   "cell_type": "code",
   "execution_count": 22,
   "metadata": {},
   "outputs": [],
   "source": [
    "data = datetime.date(2021, 1, 14)"
   ]
  },
  {
   "cell_type": "code",
   "execution_count": 25,
   "metadata": {},
   "outputs": [
    {
     "name": "stdout",
     "output_type": "stream",
     "text": [
      "True\n"
     ]
    }
   ],
   "source": [
    "print(Pracownik.czy_dzien_pracy(data))"
   ]
  },
  {
   "cell_type": "code",
   "execution_count": null,
   "metadata": {},
   "outputs": [],
   "source": []
  }
 ],
 "metadata": {
  "kernelspec": {
   "display_name": "Python 3",
   "language": "python",
   "name": "python3"
  },
  "language_info": {
   "codemirror_mode": {
    "name": "ipython",
    "version": 3
   },
   "file_extension": ".py",
   "mimetype": "text/x-python",
   "name": "python",
   "nbconvert_exporter": "python",
   "pygments_lexer": "ipython3",
   "version": "3.8.0"
  }
 },
 "nbformat": 4,
 "nbformat_minor": 4
}
