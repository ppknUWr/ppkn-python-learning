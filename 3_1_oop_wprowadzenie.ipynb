{
 "cells": [
  {
   "cell_type": "markdown",
   "metadata": {},
   "source": [
    "### Programowanie obiektowe\n",
    "\n",
    "To jeden z podstawowych paradygmatów programowania w obecnych czasach. Programowanie obiektowe to znaczy takie, w którym program definiujemy za pomocą jakiś obiektów. Obiekt taki w Pythonie jest nazywany klasą i składa się z **danych** i **metod**."
   ]
  },
  {
   "cell_type": "markdown",
   "metadata": {},
   "source": [
    "### Definicja klasy\n",
    "\n",
    "Zdefiniujmy sobie przykładową klasę, razem z komentarzem."
   ]
  },
  {
   "cell_type": "code",
   "execution_count": 1,
   "metadata": {},
   "outputs": [
    {
     "name": "stdout",
     "output_type": "stream",
     "text": [
      "The history saving thread hit an unexpected error (DatabaseError('database disk image is malformed')).History will not be written to the database.\n"
     ]
    }
   ],
   "source": [
    "class PrzykladowaKlasa:\n",
    "    \"\"\"Przykładowa klasa na potrzeby nauki\"\"\"\n",
    "    ile_mam_lat = 2 # To jest pole/dane\n",
    "    \n",
    "    def zrob_cos(self):\n",
    "        \"\"\"Metoda klasy na potrzeby nauki\n",
    "        @param - Nie przyjmuje zadnych parametrow (None)\n",
    "        @return - Nie zwraca zadnych parametrow (None)\n",
    "        \n",
    "        \"\"\"\n",
    "        print(\"Jestem zrob cosiem\")"
   ]
  },
  {
   "cell_type": "markdown",
   "metadata": {},
   "source": [
    "### Instancja klasy\n",
    "\n",
    "Instancją klasy nazywany jest obiekt, który został stworzony na podstawie informacji, jakie dostarcza nam klasa. sprawdźmy, jak to zrobić w Pythonie"
   ]
  },
  {
   "cell_type": "code",
   "execution_count": 2,
   "metadata": {},
   "outputs": [],
   "source": [
    "przykladowa_klasa = PrzykladowaKlasa() # Tworzymy nową instancję obiektu PrzykladowaKlasa"
   ]
  },
  {
   "cell_type": "code",
   "execution_count": 3,
   "metadata": {},
   "outputs": [
    {
     "data": {
      "text/plain": [
       "__main__.PrzykladowaKlasa"
      ]
     },
     "execution_count": 3,
     "metadata": {},
     "output_type": "execute_result"
    }
   ],
   "source": [
    "przykladowa_klasa.__class__ # Za pomocą metody __class__ możemy sprawdzić, z jakiego obiektu została utworzona instancja"
   ]
  },
  {
   "cell_type": "code",
   "execution_count": 4,
   "metadata": {},
   "outputs": [
    {
     "data": {
      "text/plain": [
       "__main__.PrzykladowaKlasa"
      ]
     },
     "execution_count": 4,
     "metadata": {},
     "output_type": "execute_result"
    }
   ],
   "source": [
    "type(przykladowa_klasa) # Również pozwala sprawdzić, z jakiego obiektu została utworzona instancja"
   ]
  },
  {
   "cell_type": "code",
   "execution_count": 5,
   "metadata": {},
   "outputs": [
    {
     "name": "stdout",
     "output_type": "stream",
     "text": [
      "Help on PrzykladowaKlasa in module __main__ object:\n",
      "\n",
      "class PrzykladowaKlasa(builtins.object)\n",
      " |  Przykładowa klasa na potrzeby nauki\n",
      " |  \n",
      " |  Methods defined here:\n",
      " |  \n",
      " |  zrob_cos(self)\n",
      " |      Metoda klasy na potrzeby nauki\n",
      " |      @param - Nie przyjmuje zadnych parametrow (None)\n",
      " |      @return - Nie zwraca zadnych parametrow (None)\n",
      " |  \n",
      " |  ----------------------------------------------------------------------\n",
      " |  Data descriptors defined here:\n",
      " |  \n",
      " |  __dict__\n",
      " |      dictionary for instance variables (if defined)\n",
      " |  \n",
      " |  __weakref__\n",
      " |      list of weak references to the object (if defined)\n",
      " |  \n",
      " |  ----------------------------------------------------------------------\n",
      " |  Data and other attributes defined here:\n",
      " |  \n",
      " |  ile_mam_lat = 2\n",
      "\n"
     ]
    }
   ],
   "source": [
    "help(przykladowa_klasa)"
   ]
  },
  {
   "cell_type": "markdown",
   "metadata": {},
   "source": [
    "### Metody i Pola\n",
    "\n",
    "Aby dostać się do metody i pola instniejącej instacji wystarczy użyć nazwa_instancji.nazwa_metody(), lub nazwa_instancji.pole"
   ]
  },
  {
   "cell_type": "code",
   "execution_count": 6,
   "metadata": {},
   "outputs": [
    {
     "name": "stdout",
     "output_type": "stream",
     "text": [
      "Jestem zrob cosiem\n"
     ]
    }
   ],
   "source": [
    "przykladowa_klasa.zrob_cos()"
   ]
  },
  {
   "cell_type": "code",
   "execution_count": 7,
   "metadata": {},
   "outputs": [
    {
     "name": "stdout",
     "output_type": "stream",
     "text": [
      "Jestem zrob cosiem\n",
      "Help on NoneType object:\n",
      "\n",
      "class NoneType(object)\n",
      " |  Methods defined here:\n",
      " |  \n",
      " |  __bool__(self, /)\n",
      " |      self != 0\n",
      " |  \n",
      " |  __repr__(self, /)\n",
      " |      Return repr(self).\n",
      " |  \n",
      " |  ----------------------------------------------------------------------\n",
      " |  Static methods defined here:\n",
      " |  \n",
      " |  __new__(*args, **kwargs) from builtins.type\n",
      " |      Create and return a new object.  See help(type) for accurate signature.\n",
      "\n"
     ]
    }
   ],
   "source": [
    "help(przykladowa_klasa.zrob_cos())"
   ]
  },
  {
   "cell_type": "code",
   "execution_count": 8,
   "metadata": {},
   "outputs": [
    {
     "data": {
      "text/plain": [
       "2"
      ]
     },
     "execution_count": 8,
     "metadata": {},
     "output_type": "execute_result"
    }
   ],
   "source": [
    "przykladowa_klasa.ile_mam_lat # Spodziewamy sie wartosci 2"
   ]
  },
  {
   "cell_type": "code",
   "execution_count": null,
   "metadata": {},
   "outputs": [],
   "source": []
  }
 ],
 "metadata": {
  "kernelspec": {
   "display_name": "Python 3",
   "language": "python",
   "name": "python3"
  },
  "language_info": {
   "codemirror_mode": {
    "name": "ipython",
    "version": 3
   },
   "file_extension": ".py",
   "mimetype": "text/x-python",
   "name": "python",
   "nbconvert_exporter": "python",
   "pygments_lexer": "ipython3",
   "version": "3.8.0"
  }
 },
 "nbformat": 4,
 "nbformat_minor": 4
}
