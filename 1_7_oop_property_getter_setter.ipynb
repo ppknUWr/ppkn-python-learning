{
 "cells": [
  {
   "cell_type": "markdown",
   "metadata": {},
   "source": [
    "### Enkapsulacja\n",
    "\n",
    "Jednak! W porównaniu do ostatniego notebook'a o atrybutach dostępu powstało coś takiego, co nazywa się akcesorami i mutatorami. W języku Pythonowym, są to gettery i settery. Używamy ich głównie w dwóch przypadkach:\n",
    "\n",
    "* Aby dodać logikę do ustawiania i pobierania wartości,\n",
    "* Aby uniknąć bezpośredniego dostępu do pola klasy. Czyli, zmienne nie mogą być modyfikowane przez użytkownika zewnętrznego.\n",
    "\n",
    "Mimo wszystko, zaleca się odchodzenie od getterów i setterów, ponieważ jest to \"walka z językiem\"."
   ]
  },
  {
   "cell_type": "code",
   "execution_count": 1,
   "metadata": {},
   "outputs": [
    {
     "name": "stdout",
     "output_type": "stream",
     "text": [
      "The history saving thread hit an unexpected error (DatabaseError('database disk image is malformed')).History will not be written to the database.\n"
     ]
    }
   ],
   "source": [
    "class Auto:\n",
    "    \n",
    "    def __init__(self):\n",
    "        self._marka = None\n",
    "    \n",
    "    @property\n",
    "    def marka(self):\n",
    "        print(\"Getter zostal wywolany\")\n",
    "        return self._marka\n",
    "    \n",
    "    @marka.setter\n",
    "    def marka(self, marka):\n",
    "        print(\"Setter zostal wywolany\")\n",
    "        self._marka = marka"
   ]
  },
  {
   "cell_type": "code",
   "execution_count": 2,
   "metadata": {},
   "outputs": [
    {
     "ename": "TypeError",
     "evalue": "__init__() takes 1 positional argument but 2 were given",
     "output_type": "error",
     "traceback": [
      "\u001b[0;31m---------------------------------------------------------------------------\u001b[0m",
      "\u001b[0;31mTypeError\u001b[0m                                 Traceback (most recent call last)",
      "\u001b[0;32m<ipython-input-2-574aa225bfc8>\u001b[0m in \u001b[0;36m<module>\u001b[0;34m\u001b[0m\n\u001b[0;32m----> 1\u001b[0;31m \u001b[0mford\u001b[0m \u001b[0;34m=\u001b[0m \u001b[0mAuto\u001b[0m\u001b[0;34m(\u001b[0m\u001b[0;34m\"Ford\"\u001b[0m\u001b[0;34m)\u001b[0m \u001b[0;31m# Dostaniemy błąd, ponieważ nie ma w konstruktorze marki\u001b[0m\u001b[0;34m\u001b[0m\u001b[0;34m\u001b[0m\u001b[0m\n\u001b[0m",
      "\u001b[0;31mTypeError\u001b[0m: __init__() takes 1 positional argument but 2 were given"
     ]
    }
   ],
   "source": [
    "ford = Auto(\"Ford\") # Dostaniemy błąd, ponieważ nie ma w konstruktorze marki"
   ]
  },
  {
   "cell_type": "code",
   "execution_count": 4,
   "metadata": {},
   "outputs": [],
   "source": [
    "ford = Auto()"
   ]
  },
  {
   "cell_type": "code",
   "execution_count": 6,
   "metadata": {},
   "outputs": [
    {
     "data": {
      "text/plain": [
       "mappingproxy({'__module__': '__main__',\n",
       "              '__init__': <function __main__.Auto.__init__(self)>,\n",
       "              'marka': <property at 0x7f5b5c8d34f0>,\n",
       "              '__dict__': <attribute '__dict__' of 'Auto' objects>,\n",
       "              '__weakref__': <attribute '__weakref__' of 'Auto' objects>,\n",
       "              '__doc__': None})"
      ]
     },
     "execution_count": 6,
     "metadata": {},
     "output_type": "execute_result"
    }
   ],
   "source": [
    "Auto.__dict__"
   ]
  },
  {
   "cell_type": "code",
   "execution_count": 5,
   "metadata": {},
   "outputs": [
    {
     "data": {
      "text/plain": [
       "{'_marka': None}"
      ]
     },
     "execution_count": 5,
     "metadata": {},
     "output_type": "execute_result"
    }
   ],
   "source": [
    "ford.__dict__"
   ]
  },
  {
   "cell_type": "code",
   "execution_count": 7,
   "metadata": {},
   "outputs": [
    {
     "name": "stdout",
     "output_type": "stream",
     "text": [
      "Setter zostal wywolany\n"
     ]
    }
   ],
   "source": [
    "ford.marka = \"Ford\""
   ]
  },
  {
   "cell_type": "code",
   "execution_count": 8,
   "metadata": {},
   "outputs": [
    {
     "name": "stdout",
     "output_type": "stream",
     "text": [
      "Getter zostal wywolany\n"
     ]
    }
   ],
   "source": [
    "marka_auta = ford.marka"
   ]
  },
  {
   "cell_type": "code",
   "execution_count": 9,
   "metadata": {},
   "outputs": [
    {
     "name": "stdout",
     "output_type": "stream",
     "text": [
      "Getter zostal wywolany\n",
      "Ford\n"
     ]
    }
   ],
   "source": [
    "print(ford.marka)"
   ]
  },
  {
   "cell_type": "code",
   "execution_count": null,
   "metadata": {},
   "outputs": [],
   "source": []
  }
 ],
 "metadata": {
  "kernelspec": {
   "display_name": "Python 3",
   "language": "python",
   "name": "python3"
  },
  "language_info": {
   "codemirror_mode": {
    "name": "ipython",
    "version": 3
   },
   "file_extension": ".py",
   "mimetype": "text/x-python",
   "name": "python",
   "nbconvert_exporter": "python",
   "pygments_lexer": "ipython3",
   "version": "3.8.0"
  }
 },
 "nbformat": 4,
 "nbformat_minor": 4
}
