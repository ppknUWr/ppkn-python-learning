{
 "cells": [
  {
   "cell_type": "markdown",
   "metadata": {},
   "source": [
    "### Metody i atrybuty\n",
    "\n",
    "Przejdźmy teraz po nieco dokładniejszej analizie tego, co dzieje się w Pythonie w momencie, kiedy definiujemy klasę."
   ]
  },
  {
   "cell_type": "code",
   "execution_count": null,
   "metadata": {},
   "outputs": [],
   "source": [
    "class PrzykladowaKlasa:\n",
    "    \"\"\"Przykładowa klasa na potrzeby nauki\"\"\"\n",
    "    ile_mam_lat = 2 # To jest pole/dane\n",
    "    \n",
    "    def zrob_cos(self):\n",
    "        \"\"\"Metoda klasy na potrzeby nauki\n",
    "        @param - Nie przyjmuje zadnych parametrow (None)\n",
    "        @return - Nie zwraca zadnych parametrow (None)\n",
    "        \n",
    "        \"\"\"\n",
    "        print(\"Jestem zrob cosiem\")"
   ]
  },
  {
   "cell_type": "code",
   "execution_count": null,
   "metadata": {},
   "outputs": [],
   "source": [
    "PrzykladowaKlasa.__dict__ # Sprawdźmy sobie mappingproxy tego obiektu, czyli co siedzi w środku"
   ]
  },
  {
   "cell_type": "code",
   "execution_count": null,
   "metadata": {},
   "outputs": [],
   "source": [
    "PrzykladowaKlasa.__dict__['zrob_cos'] # Czym dokładnie jest funkcja zrob_cos i co siedzi w środku"
   ]
  },
  {
   "cell_type": "code",
   "execution_count": null,
   "metadata": {},
   "outputs": [],
   "source": [
    "przykladowa_klasa = PrzykladowaKlasa() # Stworzenie instancji obiektu"
   ]
  },
  {
   "cell_type": "code",
   "execution_count": null,
   "metadata": {},
   "outputs": [],
   "source": [
    "przykladowa_klasa.__dict__"
   ]
  },
  {
   "cell_type": "code",
   "execution_count": null,
   "metadata": {},
   "outputs": [],
   "source": [
    "przykladowa_klasa.zrob_cos()"
   ]
  },
  {
   "cell_type": "code",
   "execution_count": null,
   "metadata": {},
   "outputs": [],
   "source": [
    "PrzykladowaKlasa.zrob_cos() # Dostaniemy błąd, ponieważ klasa oczekuje na REFERENCJE do INSTANCJI obiektu"
   ]
  },
  {
   "cell_type": "code",
   "execution_count": null,
   "metadata": {},
   "outputs": [],
   "source": [
    "PrzykladowaKlasa.zrob_cos(przykladowa_klasa) # Tutaj zadziała"
   ]
  },
  {
   "cell_type": "code",
   "execution_count": null,
   "metadata": {},
   "outputs": [],
   "source": [
    "from operator import methodcaller\n",
    "methodcaller('zrob_cos')(przykladowa_klasa) # Wywołanie metody za pomocą biblioteki operator"
   ]
  },
  {
   "cell_type": "code",
   "execution_count": null,
   "metadata": {},
   "outputs": [],
   "source": [
    "zrob_cos_funkcja = przykladowa_klasa.zrob_cos # Przypisanie metody do funkcji"
   ]
  },
  {
   "cell_type": "code",
   "execution_count": null,
   "metadata": {},
   "outputs": [],
   "source": [
    "zrob_cos_funkcja # Dostaniemy informacje o tym, z jakim obiektem jest związana funkcja"
   ]
  },
  {
   "cell_type": "code",
   "execution_count": null,
   "metadata": {},
   "outputs": [],
   "source": [
    "zrob_cos_funkcja() # Wywołanie metody"
   ]
  }
 ],
 "metadata": {
  "kernelspec": {
   "display_name": "Python 3",
   "language": "python",
   "name": "python3"
  },
  "language_info": {
   "codemirror_mode": {
    "name": "ipython",
    "version": 3
   },
   "file_extension": ".py",
   "mimetype": "text/x-python",
   "name": "python",
   "nbconvert_exporter": "python",
   "pygments_lexer": "ipython3",
   "version": "3.8.0"
  }
 },
 "nbformat": 4,
 "nbformat_minor": 4
}
