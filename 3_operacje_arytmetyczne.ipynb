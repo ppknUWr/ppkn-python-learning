{
 "cells": [
  {
   "cell_type": "markdown",
   "metadata": {},
   "source": [
    "### Operacje arytmetyczne\n",
    "\n",
    "Porozmawiajmy nieco więcej o typach danych numerycznych i tym, w jaki sposób matematyka została zaimplementowana w ekosystemie Pythona."
   ]
  },
  {
   "cell_type": "markdown",
   "metadata": {},
   "source": [
    "### int\n",
    "\n",
    "\n",
    "##### Typ int\n",
    "\n",
    "Typ int, czyli liczby całkowite składają się z liczb od 0 do 9 i mogą zostać poprzedzone znakiem + lub -. Nie mają żadnych limitów, jeżeli chodzi o wielkość liczby, jaką chcemy wprowadzić, jedyna rzecz jaka nas ogranicza to pamięć naszego komputera.\n",
    "\n",
    "##### Funkcja int\n",
    "\n",
    "*int()* to funkcja, która zwraca obiekt typu integer z danego typu **string** lub dowolnej liczby. \n",
    "Funkcja int() przyjmuje dwa argumenty:\n",
    "\n",
    "* Liczbę lub napis, który ma być zmieniony w obiekt typu **int**. (Domyślnie 0)\n",
    "* System liczbowy, jaki ma reprezentować obiekt typu **int**. (Od 2 do 36)\n",
    "\n"
   ]
  },
  {
   "cell_type": "code",
   "execution_count": null,
   "metadata": {},
   "outputs": [],
   "source": [
    "406"
   ]
  },
  {
   "cell_type": "code",
   "execution_count": null,
   "metadata": {},
   "outputs": [],
   "source": [
    "-395"
   ]
  },
  {
   "cell_type": "code",
   "execution_count": null,
   "metadata": {},
   "outputs": [],
   "source": [
    "+3956"
   ]
  },
  {
   "cell_type": "code",
   "execution_count": null,
   "metadata": {},
   "outputs": [],
   "source": [
    "+467 - 506"
   ]
  },
  {
   "cell_type": "markdown",
   "metadata": {},
   "source": [
    "Python radzi sobie z kolejnością wykonywania działań - widzi, kiedy operatory odejmowania stworzą dodawanie, ale i tak należy uważać."
   ]
  },
  {
   "cell_type": "code",
   "execution_count": null,
   "metadata": {},
   "outputs": [],
   "source": [
    "+40 - -36"
   ]
  },
  {
   "cell_type": "markdown",
   "metadata": {},
   "source": [
    "Konwersja z systemu dwójkowego na system dziesiętny."
   ]
  },
  {
   "cell_type": "code",
   "execution_count": null,
   "metadata": {},
   "outputs": [],
   "source": [
    "int(\"1010\", 2)"
   ]
  },
  {
   "cell_type": "markdown",
   "metadata": {},
   "source": [
    "Konwersja z typu **string** na typ **int**"
   ]
  },
  {
   "cell_type": "code",
   "execution_count": null,
   "metadata": {},
   "outputs": [],
   "source": [
    "int(\"394\")"
   ]
  },
  {
   "cell_type": "code",
   "execution_count": null,
   "metadata": {},
   "outputs": [],
   "source": [
    "type(1)"
   ]
  },
  {
   "cell_type": "markdown",
   "metadata": {},
   "source": [
    "Kiedy definiujemy naprawdę duże liczby możemy posiłkować się operatorem \"_\" aby oddzielać kolejne trzy cyfry od siebie. Ma to wpływać tylko i wyłącznie na czytelność zapisu."
   ]
  },
  {
   "cell_type": "code",
   "execution_count": null,
   "metadata": {},
   "outputs": [],
   "source": [
    "1_000_000"
   ]
  },
  {
   "cell_type": "code",
   "execution_count": null,
   "metadata": {},
   "outputs": [],
   "source": []
  }
 ],
 "metadata": {
  "kernelspec": {
   "display_name": "Python 3",
   "language": "python",
   "name": "python3"
  },
  "language_info": {
   "codemirror_mode": {
    "name": "ipython",
    "version": 3
   },
   "file_extension": ".py",
   "mimetype": "text/x-python",
   "name": "python",
   "nbconvert_exporter": "python",
   "pygments_lexer": "ipython3",
   "version": "3.8.0"
  }
 },
 "nbformat": 4,
 "nbformat_minor": 4
}
