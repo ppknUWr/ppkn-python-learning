{
 "cells": [
  {
   "cell_type": "markdown",
   "metadata": {},
   "source": [
    "### Operacje arytmetyczne\n",
    "\n",
    "Porozmawiajmy nieco więcej o typach danych numerycznych i tym, w jaki sposób matematyka została zaimplementowana w ekosystemie Pythona."
   ]
  },
  {
   "cell_type": "markdown",
   "metadata": {},
   "source": [
    "### int\n",
    "\n",
    "\n",
    "##### Typ int\n",
    "\n",
    "Typ int, czyli liczby całkowite składają się z liczb od 0 do 9 i mogą zostać poprzedzone znakiem + lub -. Nie mają żadnych limitów, jeżeli chodzi o wielkość liczby, jaką chcemy wprowadzić, jedyna rzecz jaka nas ogranicza to pamięć naszego komputera.\n",
    "\n",
    "##### Funkcja int\n",
    "\n",
    "*int()* to funkcja, która zwraca obiekt typu integer z danego typu **string** lub dowolnej liczby. \n",
    "Funkcja int() przyjmuje dwa argumenty:\n",
    "\n",
    "* Liczbę lub napis, który ma być zmieniony w obiekt typu **int**. (Domyślnie 0)\n",
    "* System liczbowy, jaki ma reprezentować obiekt typu **int**. (Od 2 do 36)\n",
    "\n"
   ]
  },
  {
   "cell_type": "code",
   "execution_count": null,
   "metadata": {},
   "outputs": [],
   "source": [
    "406"
   ]
  },
  {
   "cell_type": "code",
   "execution_count": null,
   "metadata": {},
   "outputs": [],
   "source": [
    "-395"
   ]
  },
  {
   "cell_type": "code",
   "execution_count": null,
   "metadata": {},
   "outputs": [],
   "source": [
    "+3956"
   ]
  },
  {
   "cell_type": "code",
   "execution_count": null,
   "metadata": {},
   "outputs": [],
   "source": [
    "+467 - 506"
   ]
  },
  {
   "cell_type": "markdown",
   "metadata": {},
   "source": [
    "Python radzi sobie z kolejnością wykonywania działań - widzi, kiedy operatory odejmowania stworzą dodawanie, ale i tak należy uważać."
   ]
  },
  {
   "cell_type": "code",
   "execution_count": null,
   "metadata": {},
   "outputs": [],
   "source": [
    "+40 - -36 # Jaki moze byc wynik takiego dzialania?"
   ]
  },
  {
   "cell_type": "markdown",
   "metadata": {},
   "source": [
    "Konwersja z systemu dwójkowego na system dziesiętny."
   ]
  },
  {
   "cell_type": "code",
   "execution_count": null,
   "metadata": {},
   "outputs": [],
   "source": [
    "int(\"1010\", 2)"
   ]
  },
  {
   "cell_type": "markdown",
   "metadata": {},
   "source": [
    "Konwersja z typu **string** na typ **int**"
   ]
  },
  {
   "cell_type": "code",
   "execution_count": null,
   "metadata": {},
   "outputs": [],
   "source": [
    "int(\"394\") # Spodziewamy się int"
   ]
  },
  {
   "cell_type": "code",
   "execution_count": null,
   "metadata": {},
   "outputs": [],
   "source": [
    "type(1) # Spodziewamy sie int"
   ]
  },
  {
   "cell_type": "markdown",
   "metadata": {},
   "source": [
    "Kiedy definiujemy naprawdę duże liczby możemy posiłkować się operatorem \"_\" aby oddzielać kolejne trzy cyfry od siebie. Ma to wpływać tylko i wyłącznie na czytelność zapisu."
   ]
  },
  {
   "cell_type": "code",
   "execution_count": null,
   "metadata": {},
   "outputs": [],
   "source": [
    "1_000_000"
   ]
  },
  {
   "cell_type": "code",
   "execution_count": null,
   "metadata": {},
   "outputs": [],
   "source": [
    "type(1_000_000) # Spodziewamy sie int"
   ]
  },
  {
   "cell_type": "markdown",
   "metadata": {},
   "source": [
    "### float\n",
    "\n",
    "##### Typ float\n",
    "\n",
    "Typ float, czyli liczby zmiennoprzecinkowe - w momencie, kiedy zdefiniujemy ekstremalnie \"małe\" lub \"duże\" liczby, to zostaną one konwertowane do notacji naukowej.\n",
    "\n",
    "##### Funkcja float\n",
    "\n",
    "*float()* to funkcja, która zwraca obiekt typu float z danego typu **string** lub dowolnej liczby. Przyjmuje jeden argument:\n",
    "\n",
    "* Liczbę, lub napis, które mają być konwertowane na typ float. Jeżeli argumentem wejściowym jest string, wtedy powinien zawierać miejsca dziesiętne."
   ]
  },
  {
   "cell_type": "code",
   "execution_count": null,
   "metadata": {},
   "outputs": [],
   "source": [
    "193.549"
   ]
  },
  {
   "cell_type": "code",
   "execution_count": null,
   "metadata": {},
   "outputs": [],
   "source": [
    "type(193.549)"
   ]
  },
  {
   "cell_type": "code",
   "execution_count": null,
   "metadata": {},
   "outputs": [],
   "source": [
    "float(\"123.56\")"
   ]
  },
  {
   "cell_type": "code",
   "execution_count": null,
   "metadata": {},
   "outputs": [],
   "source": [
    "float(153.5435)"
   ]
  },
  {
   "cell_type": "code",
   "execution_count": null,
   "metadata": {},
   "outputs": [],
   "source": [
    "float(2348389573489573489573894789467567498698746948190248903289035.234)"
   ]
  },
  {
   "cell_type": "code",
   "execution_count": null,
   "metadata": {},
   "outputs": [],
   "source": [
    "float(00000000000000000000000000000000000000.000069549068)"
   ]
  },
  {
   "cell_type": "markdown",
   "metadata": {},
   "source": [
    "Bardzo ciekawy przykład, w którym nieprecyzyjnie obliczany jest wynik operacji dodawania. Odsyłam do dokumentacji Pythona: https://docs.python.org/3/tutorial/floatingpoint.html i StackOverflow: https://stackoverflow.com/questions/588004/is-floating-point-math-broken gdzie wszystko jest dużo lepiej wyjaśnione - mimo wszystko, w dużym skrócie chodzi o zapis niektórych liczb w pamięci komputera za pomocą notacji IEE 754."
   ]
  },
  {
   "cell_type": "code",
   "execution_count": null,
   "metadata": {},
   "outputs": [],
   "source": [
    "3.14 + 1"
   ]
  },
  {
   "cell_type": "markdown",
   "metadata": {},
   "source": [
    "#### Spróbujmy teraz pomieszać typy zmiennych i zobaczyć, co z tego wyjdzie:"
   ]
  },
  {
   "cell_type": "code",
   "execution_count": null,
   "metadata": {},
   "outputs": [],
   "source": [
    "zmienna_int_a = 50\n",
    "zmienna_float_b = 60.813\n",
    "zmienna_str_c = \"abc\""
   ]
  },
  {
   "cell_type": "code",
   "execution_count": null,
   "metadata": {},
   "outputs": [],
   "source": [
    "zmienna_int_a + zmienna_float_b"
   ]
  },
  {
   "cell_type": "markdown",
   "metadata": {},
   "source": [
    "Dodając do siebie typ danych **int** i **float** naszym wynikiem będzie typ **float**"
   ]
  },
  {
   "cell_type": "code",
   "execution_count": null,
   "metadata": {},
   "outputs": [],
   "source": [
    "type(zmienna_int_a + zmienna_float_b) # Spodziewamy sie float"
   ]
  },
  {
   "cell_type": "markdown",
   "metadata": {},
   "source": [
    "W tym przypadku próbujemy dodać do siebie typ **string** i **int**, wynikiem takiego działania będzie błąd."
   ]
  },
  {
   "cell_type": "code",
   "execution_count": null,
   "metadata": {},
   "outputs": [],
   "source": [
    "zmienna_int_a + zmienna_str_c # Spodziewamy się błędu TypeError"
   ]
  },
  {
   "cell_type": "markdown",
   "metadata": {},
   "source": [
    "A w tym przypadku próbujemy pomnożyć przez siebie typ **string** i **int**. Tutaj wynikiem nie będzie już błąd, a napis \"abc\" powtórzony 50 razy, ponieważ taka jest wartość zmiennej zmienna_int_a."
   ]
  },
  {
   "cell_type": "code",
   "execution_count": null,
   "metadata": {},
   "outputs": [],
   "source": [
    "zmienna_int_a * zmienna_str_c"
   ]
  },
  {
   "cell_type": "markdown",
   "metadata": {},
   "source": [
    "Co może się stać tutaj? Wynikiem mnożenia typu **float** przez **string** jest TypeError mówiący, że nie można przemnożyć sekwencji przez liczbę zmiennoprzecinkową."
   ]
  },
  {
   "cell_type": "code",
   "execution_count": null,
   "metadata": {},
   "outputs": [],
   "source": [
    "zmienna_float_b * zmienna_str_c # Spodziewamy się błędu TypError"
   ]
  },
  {
   "cell_type": "markdown",
   "metadata": {},
   "source": [
    "### Operacje arytmetyczne\n",
    "\n",
    "* \"+\" Aby dodać do siebie obiekty,\n",
    "* \"-\" Aby odjąć od siebie obiekty,\n",
    "* \"*\" - Aby przemnożyć przez siebie obiekty,\n",
    "* \"/\" - Aby podzielić przez siebie obiekty,\n",
    "* \"**\" - Aby podnieść do potęgi obiekty,\n",
    "* \"//\" - W przypadku **float** przybliża wynik dzielenia do zera. W przypadku **int** da tylko część wyniku (bez zaokrąglania)\n",
    "* \"%\" - Aby uzyskać resztę z dzielenia"
   ]
  },
  {
   "cell_type": "code",
   "execution_count": null,
   "metadata": {},
   "outputs": [],
   "source": [
    "50 + 50"
   ]
  },
  {
   "cell_type": "code",
   "execution_count": null,
   "metadata": {},
   "outputs": [],
   "source": [
    "50 - 45"
   ]
  },
  {
   "cell_type": "code",
   "execution_count": null,
   "metadata": {},
   "outputs": [],
   "source": [
    "50 * 5"
   ]
  },
  {
   "cell_type": "code",
   "execution_count": null,
   "metadata": {},
   "outputs": [],
   "source": [
    "50 / 5"
   ]
  },
  {
   "cell_type": "code",
   "execution_count": null,
   "metadata": {},
   "outputs": [],
   "source": [
    "5 ** 2"
   ]
  },
  {
   "cell_type": "code",
   "execution_count": null,
   "metadata": {},
   "outputs": [],
   "source": [
    "5 // 3"
   ]
  },
  {
   "cell_type": "code",
   "execution_count": null,
   "metadata": {},
   "outputs": [],
   "source": [
    "4.5 // 1.3"
   ]
  },
  {
   "cell_type": "code",
   "execution_count": null,
   "metadata": {},
   "outputs": [],
   "source": [
    "9 % 2"
   ]
  }
 ],
 "metadata": {
  "kernelspec": {
   "display_name": "Python 3",
   "language": "python",
   "name": "python3"
  },
  "language_info": {
   "codemirror_mode": {
    "name": "ipython",
    "version": 3
   },
   "file_extension": ".py",
   "mimetype": "text/x-python",
   "name": "python",
   "nbconvert_exporter": "python",
   "pygments_lexer": "ipython3",
   "version": "3.8.0"
  }
 },
 "nbformat": 4,
 "nbformat_minor": 4
}
