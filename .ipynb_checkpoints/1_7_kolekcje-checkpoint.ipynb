{
 "cells": [
  {
   "cell_type": "markdown",
   "metadata": {},
   "source": [
    "### Kolekcje\n",
    "\n",
    "Wyobraźmy sobie, że mamy do posortowania sto liczb, które są wczytyane z pliku tekstowego. Co zrobić z takim fantem? Będziemy tworzyć sto kolejnych zmiennych i przypisywać do nich kolejne wczytane liczby? Nie, z pomocą przy gromadzeniu dużej ilości danych w programie przychodzą nam kolekcje, ale po kolei, ponieważ w Pythonie rozróżniamy cztery typy kolekcji."
   ]
  },
  {
   "cell_type": "markdown",
   "metadata": {},
   "source": [
    "#### Listy\n",
    "\n",
    "Pierwsza z nich, to lista, w Pythonie znajdziemy ją pod słowem kluczowym **list**. Najważniejsze informacje odnośnie listy to fakt, że jest dynamicznie alokowana (nie musimy podawać, ile elementów będzie zawierała) i możemy mieszać typy zmiennych, które zawiera. Listę możemy zadeklarować za pomocą funkcji **list()**, lub używając \"[\" do rozpoczęcia listy i \"]\" do zakończenia listy. Spróbujmy sobie teraz zdefiniować listę i wykonać na niej kilka podstawowych operacji."
   ]
  },
  {
   "cell_type": "code",
   "execution_count": null,
   "metadata": {},
   "outputs": [],
   "source": [
    "lista = [3, 4, 5, 10, -3, 34]"
   ]
  },
  {
   "cell_type": "markdown",
   "metadata": {},
   "source": [
    "Spróbujmy sobie wypisać każdy element powyższej listy:"
   ]
  },
  {
   "cell_type": "code",
   "execution_count": null,
   "metadata": {},
   "outputs": [],
   "source": [
    "for elem in lista:\n",
    "    print(elem)"
   ]
  },
  {
   "cell_type": "markdown",
   "metadata": {},
   "source": [
    "Spróbujmy teraz posortować elementy w liście:"
   ]
  },
  {
   "cell_type": "code",
   "execution_count": null,
   "metadata": {},
   "outputs": [],
   "source": [
    "lista.sort()\n",
    "print(lista)"
   ]
  },
  {
   "cell_type": "markdown",
   "metadata": {},
   "source": [
    "Spróbujmy sobie teraz sprawdzić, co jest pierwszym i ostatnim elementem tej listy:"
   ]
  },
  {
   "cell_type": "code",
   "execution_count": null,
   "metadata": {},
   "outputs": [],
   "source": [
    "print(lista[0], lista[-1])"
   ]
  },
  {
   "cell_type": "markdown",
   "metadata": {},
   "source": [
    "Tak jak widać na powyższym przykładzie, do elementów listy możemy odnosić się za pomocą podania nazwy tej listy, a następnie w naswiasach kwadratowych podajemy indeks, który nas interesuje. Indeksowanie za pomocą znaku minus pozwala na odczytywanie elementów od końca."
   ]
  },
  {
   "cell_type": "markdown",
   "metadata": {},
   "source": [
    "Spróbujmy teraz dodać wartość 10 do każdego elementu tej listy."
   ]
  },
  {
   "cell_type": "code",
   "execution_count": null,
   "metadata": {},
   "outputs": [],
   "source": [
    "for elem in lista:\n",
    "    lista[lista.index(elem)] += 10\n",
    "    \n",
    "print(lista)"
   ]
  },
  {
   "cell_type": "markdown",
   "metadata": {},
   "source": [
    "Jako ostatni przykład, spróbujemy sobie również wprowadzić jakiś napis, a nastepnie zmodyfikować go w taki sposób, aby każda litera była jednym z elementów listy."
   ]
  },
  {
   "cell_type": "code",
   "execution_count": null,
   "metadata": {},
   "outputs": [],
   "source": [
    "napis = \"Ala ma kota\"\n",
    "lista = list()\n",
    "\n",
    "for litera in napis:\n",
    "    lista.append(litera)\n",
    "    \n",
    "print(lista)"
   ]
  },
  {
   "cell_type": "markdown",
   "metadata": {},
   "source": [
    "#### Krotki\n",
    "\n",
    "To kolejny sposób przechowywania większej ilości danych w Pythonie. Generalnie rzecz ujmując krotki są bardzo, bardzo podobne do list, jednak główna różnica między nimi to fakt, że danych w krotce nie można edytować. Krotkę możemy zdefiniować za pomocą funkcji **tuple()**, lub używając znaków \"(\" i \")\"."
   ]
  },
  {
   "cell_type": "code",
   "execution_count": null,
   "metadata": {},
   "outputs": [],
   "source": [
    "krotka = (1, 3, 5, 10, -3, 34, \"a\", \"b\", \"c\")"
   ]
  },
  {
   "cell_type": "code",
   "execution_count": null,
   "metadata": {},
   "outputs": [],
   "source": [
    "krotka[1] = 2 # Taka operacja nie zadziała, ponieważ nie można zmieniać danych w krotce."
   ]
  },
  {
   "cell_type": "code",
   "execution_count": null,
   "metadata": {},
   "outputs": [],
   "source": [
    "krotka[1] += 2 # Również dostaniemy błąd - nie można zmieniać danych w krotce."
   ]
  },
  {
   "cell_type": "markdown",
   "metadata": {},
   "source": [
    "Spróbujmy sobie teraz wyświetlić wszystkie elementy, jakie znajdują się w tej krotce:"
   ]
  },
  {
   "cell_type": "code",
   "execution_count": null,
   "metadata": {},
   "outputs": [],
   "source": [
    "for elem in krotka:\n",
    "    print(elem)"
   ]
  },
  {
   "cell_type": "markdown",
   "metadata": {},
   "source": [
    "Spróbujmy również zdefiniować listę, którą przekonwertujemy na krotkę:"
   ]
  },
  {
   "cell_type": "code",
   "execution_count": null,
   "metadata": {},
   "outputs": [],
   "source": [
    "lista = [3, -3, 9, 10, 34, 2343, 10]\n",
    "\n",
    "krotka = tuple(lista)\n",
    "print(krotka, type(krotka))"
   ]
  },
  {
   "cell_type": "markdown",
   "metadata": {},
   "source": [
    "Jako ostatnią operację - spróbujmy zmienić mimo wszystko w jakiś sposób zerowy element zdefiniowanej krotki:"
   ]
  },
  {
   "cell_type": "markdown",
   "metadata": {},
   "source": [
    "Niestety, nie istnieje żaden inny sposób, aby zmienić elementy w liście, jak skonwertować całość krotki do listy, wykonać wymaganą operację podmiany, a nastepnie skonwertować z powrotem do krotki."
   ]
  },
  {
   "cell_type": "code",
   "execution_count": null,
   "metadata": {},
   "outputs": [],
   "source": [
    "krotka = [3, -3, 0, 10, 11]\n",
    "\n",
    "lista = list(krotka)\n",
    "lista[0] = 5\n",
    "krotka = tuple(lista)\n",
    "print(krotka)"
   ]
  },
  {
   "cell_type": "markdown",
   "metadata": {},
   "source": [
    "### Zbiory\n",
    "\n",
    "Trzeci sposób przechowywania większej ilości danych w Pythonie to Zbiory. Zbiory charakteryzują się tym, że są niemal analogiczne do zbiorów, jakie spotykamy w matematyce. Możemy na niej wykonywać dokładnie takie same działania, jak na zbiorach w matematyce i elementy w zbiorach nie mogą się powtarzać. Zbiór możemy zdefiniować za pomocą funkcji **set()**, lub używając nawiasów klamrowych: \"{\" aby rozpoczać zbiór i \"}\" aby zakończyć zbiór."
   ]
  },
  {
   "cell_type": "markdown",
   "metadata": {},
   "source": [
    "Tak, jak będziemy mogli zauważyć na poniższym przykładzie - elementy, które powtarzają się więcej niż raz zostaną zredukowane do jednego."
   ]
  },
  {
   "cell_type": "code",
   "execution_count": null,
   "metadata": {},
   "outputs": [],
   "source": [
    "zbior = {1, 1, 4, 6, 10, 11, 13}\n",
    "print(zbior)"
   ]
  },
  {
   "cell_type": "markdown",
   "metadata": {},
   "source": [
    "W poniższym przykładzie zauważymy, że zbiór nie wspiera zmiany elementów."
   ]
  },
  {
   "cell_type": "code",
   "execution_count": null,
   "metadata": {},
   "outputs": [],
   "source": [
    "zbior[1] = 7"
   ]
  },
  {
   "cell_type": "code",
   "execution_count": null,
   "metadata": {},
   "outputs": [],
   "source": [
    "zbior = {[1, 3], 6, 2, 13, 13}"
   ]
  },
  {
   "cell_type": "markdown",
   "metadata": {},
   "source": [
    "Co ciekawe - w zbiorze nie możemy również zdefiniować listy, ani żadnego elementu, który jest mutowalny. Co z krotkami?"
   ]
  },
  {
   "cell_type": "markdown",
   "metadata": {},
   "source": [
    "Tak jak widzimy - zbiór może przyjmować za elementy krotki."
   ]
  },
  {
   "cell_type": "code",
   "execution_count": null,
   "metadata": {},
   "outputs": [],
   "source": [
    "zbior = {(1, 3), (4, 4)}"
   ]
  },
  {
   "cell_type": "markdown",
   "metadata": {},
   "source": [
    "Spróbujmy teraz wykonać dwie podstawowe operacje na zbiorach - sumę, oraz wyznaczyć ich części wspólne:"
   ]
  },
  {
   "cell_type": "code",
   "execution_count": null,
   "metadata": {},
   "outputs": [],
   "source": [
    "zbior = {1, 2, 3}\n",
    "zbior_2 = {3, 4, 5, 6}"
   ]
  },
  {
   "cell_type": "markdown",
   "metadata": {},
   "source": [
    "Wyznaczanie sumy dla dwóch zbiorów: "
   ]
  },
  {
   "cell_type": "code",
   "execution_count": null,
   "metadata": {},
   "outputs": [],
   "source": [
    "suma_zbiorow = zbior.union(zbior_2)\n",
    "print(suma_zbiorow)"
   ]
  },
  {
   "cell_type": "markdown",
   "metadata": {},
   "source": [
    "Wyznaczanie ich części wspólnej:"
   ]
  },
  {
   "cell_type": "code",
   "execution_count": null,
   "metadata": {},
   "outputs": [],
   "source": [
    "czesci_wspolne = zbior.intersection(zbior_2)\n",
    "print(czesci_wspolne)"
   ]
  },
  {
   "cell_type": "markdown",
   "metadata": {},
   "source": [
    "### Słowniki\n",
    "\n",
    "To już ostatni rodzaj kolekcji, jaki możemy spotkać. Jak sama nazwa wskazuje, w Pythonie słownik jest zbudowany analogicznie, jak słownik spotykany w rzeczywistości. To znaczy, że istnieje jakieś słowo, oraz przypisana do niego definicja. Tutaj jest bardzo analogicznie, tyle że zamiast \"słowa\" używamy nazwy \"klucz\", a zamiast definicji używamy nazwy \"wartość\". Bardzo ważny jest fakt, że słowniki są mutowalne i mogą mieszać w sobie najróżniejsze typy zmiennych oraz kluczem może być tylko i wyłącznie typ danych niemutowalny."
   ]
  },
  {
   "cell_type": "code",
   "execution_count": null,
   "metadata": {},
   "outputs": [],
   "source": [
    "slownik = {\"imie\": \"Jan\", \"nazwisko\": \"Kowalski\", \"wiek\": 42}"
   ]
  },
  {
   "cell_type": "markdown",
   "metadata": {},
   "source": [
    "Wyświetlmy sobie teraz, co kryje się pod kluczem \"imie\" w słowniku:"
   ]
  },
  {
   "cell_type": "code",
   "execution_count": null,
   "metadata": {},
   "outputs": [],
   "source": [
    "print(f\"Imie: {slownik['imie']}\")"
   ]
  },
  {
   "cell_type": "markdown",
   "metadata": {},
   "source": [
    "Spróbujmy również zmienić coś w naszym słowniku:"
   ]
  },
  {
   "cell_type": "code",
   "execution_count": null,
   "metadata": {},
   "outputs": [],
   "source": [
    "slownik['wiek'] = 18\n",
    "print(slownik)"
   ]
  },
  {
   "cell_type": "markdown",
   "metadata": {},
   "source": [
    "Jako przedostatnią operację - spróbujmy poiterować po kluczach i odpowiadającym im wartościach:"
   ]
  },
  {
   "cell_type": "code",
   "execution_count": null,
   "metadata": {},
   "outputs": [],
   "source": [
    "for klucz, wartosc in slownik.items():\n",
    "    print(klucz, wartosc)"
   ]
  },
  {
   "cell_type": "markdown",
   "metadata": {},
   "source": [
    "I jako ostatnią operację, spróbujmy przeiterować tylko po kluczach:"
   ]
  },
  {
   "cell_type": "code",
   "execution_count": null,
   "metadata": {},
   "outputs": [],
   "source": [
    "for klucz in slownik.keys():\n",
    "    print(klucz)"
   ]
  }
 ],
 "metadata": {
  "kernelspec": {
   "display_name": "Python 3",
   "language": "python",
   "name": "python3"
  },
  "language_info": {
   "codemirror_mode": {
    "name": "ipython",
    "version": 3
   },
   "file_extension": ".py",
   "mimetype": "text/x-python",
   "name": "python",
   "nbconvert_exporter": "python",
   "pygments_lexer": "ipython3",
   "version": "3.8.0"
  }
 },
 "nbformat": 4,
 "nbformat_minor": 4
}
