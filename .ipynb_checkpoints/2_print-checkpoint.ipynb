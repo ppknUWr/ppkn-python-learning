{
 "cells": [
  {
   "cell_type": "markdown",
   "metadata": {},
   "source": [
    " ### Jak wyświetlać zmienne na ekranie?\n",
    " \n",
    " Często pisząc swój program natrafiamy na przeróżne błędy z którymi musimy sobie radzić. Bardzo często jest też tak, że chcemy poniekąd podejrzeć, co się dzieje w środku i wyświetlić zawartość kilku zmiennych, które typujemy na \"miejsce\", które może być przyczyną błędu.\n",
    " \n",
    " Python daje kilka gotowych komend, które pozwalają na radzenie sobie z wyświetlaniem zawartości w konsoli. Zdefiniuje więc kilka zmiennych, na których będę pokazywał, w jaki sposób sobie z tym radzić"
   ]
  },
  {
   "cell_type": "code",
   "execution_count": null,
   "metadata": {},
   "outputs": [],
   "source": [
    "zmienna_liczbowa_a = 37\n",
    "zmienna_liczbowa_b = 485\n",
    "zmienna_liczbowa_c = 1"
   ]
  },
  {
   "cell_type": "code",
   "execution_count": null,
   "metadata": {},
   "outputs": [],
   "source": [
    "print(\"Wartosc zmiennej a to: \" + str(zmienna_liczbowa_a) + \" wartosc zmiennej b to \" + str(zmienna_liczbowa_b) + \" wartosc zmiennej c to \" + str(zmienna_liczbowa_c))"
   ]
  },
  {
   "cell_type": "code",
   "execution_count": null,
   "metadata": {},
   "outputs": [],
   "source": [
    "print(\"Wartosc zmiennej a to: \" + zmienna_liczbowa_a + \" wartosc zmiennej b to \" + zmienna_liczbowa_b + \" wartosc zmiennej c to \" + zmienna_liczbowa_c))\n"
   ]
  },
  {
   "cell_type": "markdown",
   "metadata": {},
   "source": [
    "Dlaczego widzimy dwa przykłady? Który zadziała? Otóż jedynym prawidłowym rozwiązaniem w tym przypadku jest podejście pierwsze. Używając metody z printem i plusami musimy za każdym razem rzutować typ zmiennej na stringa, inaczej dostaniemy błąd, że Python nie jest w stanie wyświetlić zmiennej typu int w łańcuchu znaków (str)"
   ]
  },
  {
   "cell_type": "code",
   "execution_count": null,
   "metadata": {},
   "outputs": [],
   "source": [
    "print(\"Wartosc zmiennej a to: \", zmienna_liczbowa_a, \" wartosc zmiennej b to \", zmienna_liczbowa_b, \" wartosc zmiennej c to \", zmienna_liczbowa_c)"
   ]
  },
  {
   "cell_type": "markdown",
   "metadata": {},
   "source": [
    "Powyższy przykład jest dużo bardziej \"Pythonowy\", w tym przypadku nie musimy używać rzutowania typów zmiennych."
   ]
  },
  {
   "cell_type": "code",
   "execution_count": null,
   "metadata": {},
   "outputs": [],
   "source": [
    "print(\"Wartosc zmiennej a to: %i, wartosc zmiennej b to: %i, wartosc zmiennej c to %i\" % (zmienna_liczbowa_a, zmienna_liczbowa_b, zmienna_liczbowa_c))"
   ]
  },
  {
   "cell_type": "markdown",
   "metadata": {},
   "source": [
    "W tym przypadku widać, że efekt pozostaje dokładnie taki sam - wyświetla nam wartości wszystkich zmiennych, podejście jest jednak bardziej poprawne w przypadku programowaniu w języku C, aniżeli Python. "
   ]
  },
  {
   "cell_type": "code",
   "execution_count": null,
   "metadata": {},
   "outputs": [],
   "source": [
    "print(\"Wartosc zmiennej a to {0}, wartosc zmiennej b to {1}, wartosc zmiennej c to {2}\".format(zmienna_liczbowa_a, zmienna_liczbowa_b, zmienna_liczbowa_c))"
   ]
  },
  {
   "cell_type": "markdown",
   "metadata": {},
   "source": [
    "Podejście również praktykowane. Osobiście nie jestem wielkim fanem, ponieważ trzeba sporą ilość kodu powtarzać, a w dodatku obserwować, które miejsce w łańcuchu napisów odpowiada której zmiennej. "
   ]
  },
  {
   "cell_type": "code",
   "execution_count": 12,
   "metadata": {},
   "outputs": [
    {
     "name": "stdout",
     "output_type": "stream",
     "text": [
      "Wartosc zmiennej a to 37, wartosc zmiennej b to 485, wartosc zmiennej c to 1\n"
     ]
    }
   ],
   "source": [
    "print(f\"Wartosc zmiennej a to {zmienna_liczbowa_a}, wartosc zmiennej b to {zmienna_liczbowa_b}, wartosc zmiennej c to {zmienna_liczbowa_c}\")"
   ]
  },
  {
   "cell_type": "markdown",
   "metadata": {},
   "source": [
    "Moim zdaniem najbardziej eleganckie podejście. Praktycznie gołym okiem widać, o jakie zmienne nam chodzi i co się dzieje w łańcuchu znaków.\n",
    "\n",
    "Sposób, jakiego sam zaczniesz używać, zależy tylko i wyłącznie od Ciebie! "
   ]
  },
  {
   "cell_type": "code",
   "execution_count": null,
   "metadata": {},
   "outputs": [],
   "source": []
  }
 ],
 "metadata": {
  "kernelspec": {
   "display_name": "Python 3",
   "language": "python",
   "name": "python3"
  },
  "language_info": {
   "codemirror_mode": {
    "name": "ipython",
    "version": 3
   },
   "file_extension": ".py",
   "mimetype": "text/x-python",
   "name": "python",
   "nbconvert_exporter": "python",
   "pygments_lexer": "ipython3",
   "version": "3.8.0"
  }
 },
 "nbformat": 4,
 "nbformat_minor": 4
}
