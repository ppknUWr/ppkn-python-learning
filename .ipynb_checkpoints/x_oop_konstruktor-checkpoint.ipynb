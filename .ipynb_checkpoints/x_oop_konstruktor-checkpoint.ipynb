{
 "cells": [
  {
   "cell_type": "markdown",
   "metadata": {},
   "source": [
    "### Konstruktory\n",
    "\n",
    "Bardzo ważnym pojęciem w programowaniu obiektowym Pythona jest możliwość tworzenia funkcji konstruktora, która pozwala na przyjęcie przez klasę argumentów. Spróbujmy na przykładzie auta w pozycji 2D. Zdefiniujemy sobie jego kolor, pozycję x, y i prędkość, oraz metody które pozwalają zmienić prędkość.\n",
    "\n",
    "**Konstruktor** definiujemy za pomocą metody *def __init__(self)*, a następnie po przecinku możemy przekazywać kolejne argumenty do zapisania."
   ]
  },
  {
   "cell_type": "code",
   "execution_count": null,
   "metadata": {},
   "outputs": [],
   "source": [
    "class Auto:\n",
    "    \n",
    "    def __init__(self, kolor, pozycja_x, pozycja_y, predkosc):\n",
    "        self.kolor = kolor\n",
    "        self.pozycja_x = pozycja_x\n",
    "        self.pozycja_y = pozycja_y\n",
    "        self.predkosc = predkosc\n",
    "        \n",
    "    def zmiana_predkosci(self, nowa_predkosc):\n",
    "        self.predkosc = nowa_predkosc"
   ]
  },
  {
   "cell_type": "code",
   "execution_count": null,
   "metadata": {},
   "outputs": [],
   "source": [
    "ford = Auto(\"Czerwony\", 1, 3, 10)"
   ]
  },
  {
   "cell_type": "code",
   "execution_count": null,
   "metadata": {},
   "outputs": [],
   "source": [
    "ford.__dict__"
   ]
  },
  {
   "cell_type": "code",
   "execution_count": null,
   "metadata": {},
   "outputs": [],
   "source": [
    "ford.kolor"
   ]
  },
  {
   "cell_type": "code",
   "execution_count": null,
   "metadata": {},
   "outputs": [],
   "source": [
    "ford.pozycja_x"
   ]
  },
  {
   "cell_type": "code",
   "execution_count": null,
   "metadata": {},
   "outputs": [],
   "source": [
    "ford.predkosc"
   ]
  },
  {
   "cell_type": "code",
   "execution_count": null,
   "metadata": {},
   "outputs": [],
   "source": [
    "ford.zmiana_predkosci(5)"
   ]
  },
  {
   "cell_type": "code",
   "execution_count": null,
   "metadata": {},
   "outputs": [],
   "source": [
    "ford.__dict__"
   ]
  },
  {
   "cell_type": "markdown",
   "metadata": {},
   "source": [
    "### Różnica pomiędzy __init__ a __new__\n",
    "\n",
    "**Metoda __new__** - jest wywoływana za każdym razem, kiedy nowa instancja JEST TWORZONA\n",
    "\n",
    "**Metoda __init__** - jest wywoływana za każdym razem, kiedy instancja jest już stworzona i trzeba ją \"uzupełnić\" danymi."
   ]
  },
  {
   "cell_type": "code",
   "execution_count": null,
   "metadata": {},
   "outputs": [],
   "source": [
    "class PrzykladowaKlasa:\n",
    "    \n",
    "    def __new__(cls, *args):\n",
    "        print(f\"Stworzony nowy obiekt {cls} z argumentami {args}\")\n",
    "        return super().__new__(cls)\n",
    "        \n",
    "    def __init__(self, *args):\n",
    "        print(f\"Pamiec obiektu przed __init__ {self.__dict__}\")\n",
    "        self.argumenty = list(args)\n",
    "        print(f\"Pamiec obiektu po __init__ {self.__dict__}\")\n",
    "    "
   ]
  },
  {
   "cell_type": "code",
   "execution_count": null,
   "metadata": {},
   "outputs": [],
   "source": [
    "przykladowa_klasa = PrzykladowaKlasa(1, 2, 3, 5)"
   ]
  },
  {
   "cell_type": "markdown",
   "metadata": {},
   "source": [
    "### Ciekawy przykład - własne sortowanie obiektów"
   ]
  },
  {
   "cell_type": "code",
   "execution_count": 17,
   "metadata": {},
   "outputs": [],
   "source": [
    "class Trojkat:\n",
    "    \n",
    "    def __init__(self, wysokosc, podstawa):\n",
    "        self.wysokosc = wysokosc\n",
    "        self.podstawa = podstawa\n",
    "        \n",
    "    def __repr__(self):\n",
    "        return f\"{self.wysokosc} x {self.podstawa}\"\n",
    "    \n",
    "    def pole(self):\n",
    "        return 0.5 * self.wysokosc * self.podstawa"
   ]
  },
  {
   "cell_type": "code",
   "execution_count": 18,
   "metadata": {},
   "outputs": [],
   "source": [
    "trojkaty = [Trojkat(3, 2), Trojkat(2, 2), Trojkat(5, 6), Trojkat(10, 10)]"
   ]
  },
  {
   "cell_type": "code",
   "execution_count": 19,
   "metadata": {},
   "outputs": [
    {
     "data": {
      "text/plain": [
       "[3 x 2, 2 x 2, 5 x 6, 10 x 10]"
      ]
     },
     "execution_count": 19,
     "metadata": {},
     "output_type": "execute_result"
    }
   ],
   "source": [
    "trojkaty"
   ]
  },
  {
   "cell_type": "code",
   "execution_count": 22,
   "metadata": {},
   "outputs": [],
   "source": [
    "import operator\n",
    "trojkaty.sort(key=operator.methodcaller('pole'))"
   ]
  },
  {
   "cell_type": "code",
   "execution_count": 23,
   "metadata": {},
   "outputs": [
    {
     "data": {
      "text/plain": [
       "[2 x 2, 3 x 2, 5 x 6, 10 x 10]"
      ]
     },
     "execution_count": 23,
     "metadata": {},
     "output_type": "execute_result"
    }
   ],
   "source": [
    "trojkaty"
   ]
  },
  {
   "cell_type": "code",
   "execution_count": null,
   "metadata": {},
   "outputs": [],
   "source": []
  }
 ],
 "metadata": {
  "kernelspec": {
   "display_name": "Python 3",
   "language": "python",
   "name": "python3"
  },
  "language_info": {
   "codemirror_mode": {
    "name": "ipython",
    "version": 3
   },
   "file_extension": ".py",
   "mimetype": "text/x-python",
   "name": "python",
   "nbconvert_exporter": "python",
   "pygments_lexer": "ipython3",
   "version": "3.8.0"
  }
 },
 "nbformat": 4,
 "nbformat_minor": 4
}
