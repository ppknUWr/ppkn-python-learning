{
 "cells": [
  {
   "cell_type": "markdown",
   "metadata": {},
   "source": [
    "### Dziedziczenie\n",
    "\n",
    "W Pythonie mamy możliwość dziedziczenia po sobie klas. Oznacza to, że możemy zdefiniować sobie klasę Zwierzę z polem gatunek, a następnie stworzyć kolejną klasę - Pies, która dziedziczy po klasie Zwierze. Klasa Pies przejmie wtedy po klasie Zwierze dostęp do pola gatunek."
   ]
  },
  {
   "cell_type": "code",
   "execution_count": null,
   "metadata": {},
   "outputs": [],
   "source": [
    "# Definicja klasy Zwierze\n",
    "class Zwierze:\n",
    "    \n",
    "    def __init__(self, gatunek):\n",
    "        self.gatunek = gatunek\n",
    "\n",
    "    def get_gatunek(self):\n",
    "        print(f\"Jestem gatunku {self.gatunek}\")"
   ]
  },
  {
   "cell_type": "code",
   "execution_count": null,
   "metadata": {},
   "outputs": [],
   "source": [
    "# Definicja klasy Pies\n",
    "class Pies(Zwierze):\n",
    "    \n",
    "    def __init__(self, imie):\n",
    "        self.imie = imie\n",
    "        super().__init__(\"Ssak\") # Wywołanie konstruktora, po którym dziedziczy klasa Pies.\n",
    "        \n",
    "    def dzwiek(self):\n",
    "        print (f\"Jestem {type(self).__name__} i wydaje dzwiek: hau\")\n",
    "        \n",
    "    def double_dzwiek(self):\n",
    "        self.dzwiek()\n",
    "        self.dzwiek()"
   ]
  },
  {
   "cell_type": "code",
   "execution_count": null,
   "metadata": {},
   "outputs": [],
   "source": [
    "pies_przyklad = Pies(\"Burek\")"
   ]
  },
  {
   "cell_type": "code",
   "execution_count": null,
   "metadata": {},
   "outputs": [],
   "source": [
    "pies_przyklad.__dict__"
   ]
  },
  {
   "cell_type": "code",
   "execution_count": null,
   "metadata": {},
   "outputs": [],
   "source": [
    "pies_przyklad.gatunek"
   ]
  },
  {
   "cell_type": "code",
   "execution_count": null,
   "metadata": {},
   "outputs": [],
   "source": [
    "Zwierze.__bases__, Pies.__bases__ # Sprawdzenie, po czym dziedziczą klasy Zwierze i Pies"
   ]
  },
  {
   "cell_type": "code",
   "execution_count": null,
   "metadata": {},
   "outputs": [],
   "source": [
    "pies_przyklad.dzwiek()"
   ]
  },
  {
   "cell_type": "code",
   "execution_count": null,
   "metadata": {},
   "outputs": [],
   "source": [
    "pies_przyklad.double_dzwiek()"
   ]
  },
  {
   "cell_type": "code",
   "execution_count": null,
   "metadata": {},
   "outputs": [],
   "source": [
    "pies_przyklad.get_gatunek()"
   ]
  },
  {
   "cell_type": "code",
   "execution_count": null,
   "metadata": {},
   "outputs": [],
   "source": [
    "Zwierze.__dict__, Pies.__dict__"
   ]
  },
  {
   "cell_type": "code",
   "execution_count": null,
   "metadata": {},
   "outputs": [],
   "source": []
  }
 ],
 "metadata": {
  "kernelspec": {
   "display_name": "Python 3",
   "language": "python",
   "name": "python3"
  },
  "language_info": {
   "codemirror_mode": {
    "name": "ipython",
    "version": 3
   },
   "file_extension": ".py",
   "mimetype": "text/x-python",
   "name": "python",
   "nbconvert_exporter": "python",
   "pygments_lexer": "ipython3",
   "version": "3.8.0"
  }
 },
 "nbformat": 4,
 "nbformat_minor": 4
}
