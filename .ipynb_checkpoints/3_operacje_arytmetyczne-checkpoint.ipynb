{
 "cells": [
  {
   "cell_type": "markdown",
   "metadata": {},
   "source": [
    "### Operacje arytmetyczne\n",
    "\n",
    "Porozmawiajmy nieco więcej o typach danych numerycznych i tym, w jaki sposób matematyka została zaimplementowana w ekosystemie Pythona."
   ]
  },
  {
   "cell_type": "markdown",
   "metadata": {},
   "source": [
    "### int\n",
    "\n",
    "\n",
    "##### Typ int\n",
    "\n",
    "Typ int, czyli liczby całkowite składają się z liczb od 0 do 9 i mogą zostać poprzedzone znakiem + lub -. Nie mają żadnych limitów, jeżeli chodzi o wielkość liczby, jaką chcemy wprowadzić, jedyna rzecz jaka nas ogranicza to pamięć naszego komputera.\n",
    "\n",
    "##### Funkcja int\n",
    "\n",
    "*int()* to funkcja, która zwraca obiekt typu integer z danego typu **string** lub dowolnej liczby. \n",
    "Funkcja int() przyjmuje dwa argumenty:\n",
    "\n",
    "* Liczbę lub napis, który ma być zmieniony w obiekt typu **int**. (Domyślnie 0)\n",
    "* System liczbowy, jaki ma reprezentować obiekt typu **int**. (Od 2 do 36)\n",
    "\n"
   ]
  },
  {
   "cell_type": "code",
   "execution_count": null,
   "metadata": {},
   "outputs": [],
   "source": [
    "406"
   ]
  },
  {
   "cell_type": "code",
   "execution_count": null,
   "metadata": {},
   "outputs": [],
   "source": [
    "-395"
   ]
  },
  {
   "cell_type": "code",
   "execution_count": null,
   "metadata": {},
   "outputs": [],
   "source": [
    "+3956"
   ]
  },
  {
   "cell_type": "code",
   "execution_count": null,
   "metadata": {},
   "outputs": [],
   "source": [
    "+467 - 506"
   ]
  },
  {
   "cell_type": "markdown",
   "metadata": {},
   "source": [
    "Python radzi sobie z kolejnością wykonywania działań - widzi, kiedy operatory odejmowania stworzą dodawanie, ale i tak należy uważać."
   ]
  },
  {
   "cell_type": "code",
   "execution_count": null,
   "metadata": {},
   "outputs": [],
   "source": [
    "+40 - -36"
   ]
  },
  {
   "cell_type": "markdown",
   "metadata": {},
   "source": [
    "Konwersja z systemu dwójkowego na system dziesiętny."
   ]
  },
  {
   "cell_type": "markdown",
   "metadata": {},
   "source": [
    "int(\"1010\", 2)"
   ]
  },
  {
   "cell_type": "markdown",
   "metadata": {},
   "source": [
    "Konwersja z typu **string** na typ **int**"
   ]
  },
  {
   "cell_type": "code",
   "execution_count": null,
   "metadata": {},
   "outputs": [],
   "source": [
    "int(\"394\") # Spodziewamy się int"
   ]
  },
  {
   "cell_type": "code",
   "execution_count": null,
   "metadata": {},
   "outputs": [],
   "source": [
    "type(1) # Spodziewamy sie int"
   ]
  },
  {
   "cell_type": "markdown",
   "metadata": {},
   "source": [
    "Kiedy definiujemy naprawdę duże liczby możemy posiłkować się operatorem \"_\" aby oddzielać kolejne trzy cyfry od siebie. Ma to wpływać tylko i wyłącznie na czytelność zapisu."
   ]
  },
  {
   "cell_type": "code",
   "execution_count": null,
   "metadata": {},
   "outputs": [],
   "source": [
    "1_000_000"
   ]
  },
  {
   "cell_type": "code",
   "execution_count": 1,
   "metadata": {},
   "outputs": [
    {
     "data": {
      "text/plain": [
       "int"
      ]
     },
     "execution_count": 1,
     "metadata": {},
     "output_type": "execute_result"
    }
   ],
   "source": [
    "type(1_000_000)"
   ]
  },
  {
   "cell_type": "markdown",
   "metadata": {},
   "source": [
    "### float\n",
    "\n",
    "##### Typ float\n",
    "\n",
    "Typ float, czyli liczby zmiennoprzecinkowe - w momencie, kiedy zdefiniujemy ekstremalnie \"małe\" lub \"duże\" liczby, to zostaną one konwertowane do notacji naukowej.\n",
    "\n",
    "##### Funkcja float\n",
    "\n",
    "*float()* to funkcja, która zwraca obiekt typu float z danego typu **string** lub dowolnej liczby. Przyjmuje jeden argument:\n",
    "\n",
    "* Liczbę, lub napis, które mają być konwertowane na typ float. Jeżeli argumentem wejściowym jest string, wtedy powinien zawierać miejsca dziesiętne."
   ]
  },
  {
   "cell_type": "code",
   "execution_count": 5,
   "metadata": {},
   "outputs": [
    {
     "data": {
      "text/plain": [
       "193.549"
      ]
     },
     "execution_count": 5,
     "metadata": {},
     "output_type": "execute_result"
    }
   ],
   "source": [
    "193.549"
   ]
  },
  {
   "cell_type": "code",
   "execution_count": 6,
   "metadata": {},
   "outputs": [
    {
     "data": {
      "text/plain": [
       "float"
      ]
     },
     "execution_count": 6,
     "metadata": {},
     "output_type": "execute_result"
    }
   ],
   "source": [
    "type(193.549)"
   ]
  },
  {
   "cell_type": "code",
   "execution_count": 7,
   "metadata": {},
   "outputs": [
    {
     "data": {
      "text/plain": [
       "123.56"
      ]
     },
     "execution_count": 7,
     "metadata": {},
     "output_type": "execute_result"
    }
   ],
   "source": [
    "float(\"123.56\")"
   ]
  },
  {
   "cell_type": "code",
   "execution_count": 8,
   "metadata": {},
   "outputs": [
    {
     "data": {
      "text/plain": [
       "153.5435"
      ]
     },
     "execution_count": 8,
     "metadata": {},
     "output_type": "execute_result"
    }
   ],
   "source": [
    "float(153.5435)"
   ]
  },
  {
   "cell_type": "code",
   "execution_count": 9,
   "metadata": {},
   "outputs": [
    {
     "data": {
      "text/plain": [
       "2.3483895734895735e+60"
      ]
     },
     "execution_count": 9,
     "metadata": {},
     "output_type": "execute_result"
    }
   ],
   "source": [
    "float(2348389573489573489573894789467567498698746948190248903289035.234)"
   ]
  },
  {
   "cell_type": "code",
   "execution_count": 10,
   "metadata": {},
   "outputs": [
    {
     "data": {
      "text/plain": [
       "6.9549068e-05"
      ]
     },
     "execution_count": 10,
     "metadata": {},
     "output_type": "execute_result"
    }
   ],
   "source": [
    "float(00000000000000000000000000000000000000.000069549068)"
   ]
  },
  {
   "cell_type": "markdown",
   "metadata": {},
   "source": [
    "Bardzo ciekawy przykład, w którym nieprecyzyjnie obliczany jest wynik operacji dodawania. Odsyłam do dokumentacji Pythona: https://docs.python.org/3/tutorial/floatingpoint.html i StackOverflow: https://stackoverflow.com/questions/588004/is-floating-point-math-broken gdzie wszystko jest dużo lepiej wyjaśnione - mimo wszystko, w dużym skrócie chodzi o zapis niektórych liczb w pamięci komputera za pomocą notacji IEE 754."
   ]
  },
  {
   "cell_type": "code",
   "execution_count": 13,
   "metadata": {},
   "outputs": [
    {
     "data": {
      "text/plain": [
       "4.140000000000001"
      ]
     },
     "execution_count": 13,
     "metadata": {},
     "output_type": "execute_result"
    }
   ],
   "source": [
    "3.14 + 1"
   ]
  },
  {
   "cell_type": "code",
   "execution_count": null,
   "metadata": {},
   "outputs": [],
   "source": []
  }
 ],
 "metadata": {
  "kernelspec": {
   "display_name": "Python 3",
   "language": "python",
   "name": "python3"
  },
  "language_info": {
   "codemirror_mode": {
    "name": "ipython",
    "version": 3
   },
   "file_extension": ".py",
   "mimetype": "text/x-python",
   "name": "python",
   "nbconvert_exporter": "python",
   "pygments_lexer": "ipython3",
   "version": "3.8.0"
  }
 },
 "nbformat": 4,
 "nbformat_minor": 4
}
