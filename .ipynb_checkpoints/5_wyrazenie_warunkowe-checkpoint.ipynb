{
 "cells": [
  {
   "cell_type": "markdown",
   "metadata": {},
   "source": [
    "### Instrukcje warunkowe\n",
    "\n",
    "W każdym języku programowania spotkamy się z tzw. wyrażeniem warunkowym. Wzięte zostało ono z języka angielskiego i w programowaniu jest słowem kluczowym **if**. Stosując **if** wewnątrz naszego programu inicjujemy i z góry narzucamy Pythonowi coś, co nazywa się blokiem instrukcji warunkowej. Po wpisaniu **if** musimy zastosować warunek, który chcemy sprawdzić. Może być to chociażby sprawdzenie, czy liczba jest większa od podanego zakresu, czy może jakiś warunek jest prawdziwy. Po podaniu warunku do sprawdzenia nie możemy zapomnieć o dodaniu **:** do końca linii."
   ]
  },
  {
   "cell_type": "markdown",
   "metadata": {},
   "source": [
    "Sprawdźmy sobie teraz, jak funkcjonuje wyrażenie warunkowe w Pythonie. W tym celu zadeklaruje jedną zmienną \"Warunek\", do której przypisze wartość logiczną True."
   ]
  },
  {
   "cell_type": "code",
   "execution_count": null,
   "metadata": {},
   "outputs": [],
   "source": [
    "Warunek = True"
   ]
  },
  {
   "cell_type": "markdown",
   "metadata": {},
   "source": [
    "Teraz za pomocą instrukcji warunkowej sprawdzę, czy Warunek jest prawdziwy."
   ]
  },
  {
   "cell_type": "code",
   "execution_count": null,
   "metadata": {},
   "outputs": [],
   "source": [
    "if Warunek == True:\n",
    "    print(\"Warunek jest spelniony\")"
   ]
  },
  {
   "cell_type": "markdown",
   "metadata": {},
   "source": [
    "Tak jak widać na powyższym przykładzie, sprawdziliśmy, czy warunek jest spełniony. Należy surowo przestrzegać zasady stosowania dwóch znaków równa się **==**. Zapamiętajmy raz na zawsze! Operator **=** służy do PRZYPISANIA wartości do zmiennej. Operator **==** służy tylko i wyłącznie do SPRAWDZENIA warunków! "
   ]
  },
  {
   "cell_type": "markdown",
   "metadata": {},
   "source": [
    "Co w przypadku, kiedy chcemy wykonać jakieś operacje w przypadku, kiedy Warunek jest fałszywy? Wtedy możemy zastosować instrukcję **else** która następuje po zakończeniu operacji stosowanych w bloku operacji **if**.\n",
    "\n",
    "Zmienię teraz Warunek na wartość logiczną False i zadeklaruje blok **else**"
   ]
  },
  {
   "cell_type": "code",
   "execution_count": null,
   "metadata": {},
   "outputs": [],
   "source": [
    "Warunek = False"
   ]
  },
  {
   "cell_type": "code",
   "execution_count": null,
   "metadata": {},
   "outputs": [],
   "source": [
    "if Warunek == True:\n",
    "    print(\"Warunek jest spelniony\")\n",
    "else:\n",
    "    print(\"Warunek nie jest spelniony\")"
   ]
  },
  {
   "cell_type": "markdown",
   "metadata": {},
   "source": [
    "I tak właśnie możemy zadeklarować instrukcję, która w momencie, kiedy warunek nie jest spełniony wyświetla nam odpowiedni komunikat. Spróbujmy teraz z czymś bardziej zaawansowanym. Ustalmy z góry liczbę zmiennoprzecinkową (**float**) w przedziale od 0 do 1.0 i zadeklarujmy bloki warunkowe:\n",
    "\n",
    "* Kiedy liczba będzie mniejsza od 0.3, program wyświetli komunikat: \"Mniejsza od 0.3\",\n",
    "* Kiedy liczba będzie większa od 0.3 i mniejsza od 0.7, program wyświetli komunikat: \"W przedziale 0.3 i 0.7\"\n",
    "* W przeciwnym wypadku wyświetli komunikat: \"Wieksza od 0.7\"\n",
    "\n",
    "W przypadku, kiedy chcemy wykonać taki przykład, musimy poznać kolejne słowo kluczowe **elif**, po którym następuje wprowadzenie kolejnego warunku do sprawdzenia. Jak widać, będziemy musieli tutaj również zastosować łączenie dwóch warunków i służy do tego słowo kluczowe **and**. Prócz słowa **and** możemy również spotkać się z zapisem **or**. Różnica między nimi polega na tym, że w przypadku zastosowania operatora **and** mówimy o operatorze logicznym \"i\", natomiast w przypadku **or**, mówimy o operatorze logicznym \"lub\"."
   ]
  },
  {
   "cell_type": "code",
   "execution_count": null,
   "metadata": {},
   "outputs": [],
   "source": [
    "liczba = 0.5"
   ]
  },
  {
   "cell_type": "code",
   "execution_count": null,
   "metadata": {},
   "outputs": [],
   "source": [
    "if liczba < 0.3:\n",
    "    print(\"Mniejsza od 0.3\")\n",
    "elif liczba > 0.3 and liczba < 0.7:\n",
    "    print (\"W przedziale 0.3 i 0.7\")\n",
    "else:\n",
    "    print(\"Wieksza od 0.7\")"
   ]
  },
  {
   "cell_type": "markdown",
   "metadata": {},
   "source": [
    "Zbadajmy sobie również działanie warunku logicznego **or** (lub). Załóżmy, że jesteśmy człowiekiem odpowiedzialnym za przepuszczanie pociągów przez kolejne semafory.\n",
    "\n",
    "* W momecnie, kiedy semafor 1 przekazuje sygnał zezwalający na przejazd, lub semafor 2 przekazuje sygnał zezwalający na przejazd, program wyświetla komunikat: \"Pociag moze przejechac\",\n",
    "* W przypadku, że oba semafory są włączone, program wyświetla komunikat: \"Pociag moze przyjechac\"\n",
    "* W przypadku, kiedy oba semafory są wyłączone, program wyświetla komunikat: \"Pociag nie moze przejechac\""
   ]
  },
  {
   "cell_type": "code",
   "execution_count": null,
   "metadata": {},
   "outputs": [],
   "source": [
    "semafor_1 = False\n",
    "semafor_2 = False"
   ]
  },
  {
   "cell_type": "code",
   "execution_count": null,
   "metadata": {},
   "outputs": [],
   "source": [
    "if semafor_1 == True or semafor_2 == True:\n",
    "    print(\"Pociag moze przejechac\")\n",
    "else:\n",
    "    print(\"Pociag nie moze przejchac\")"
   ]
  }
 ],
 "metadata": {
  "kernelspec": {
   "display_name": "Python 3",
   "language": "python",
   "name": "python3"
  },
  "language_info": {
   "codemirror_mode": {
    "name": "ipython",
    "version": 3
   },
   "file_extension": ".py",
   "mimetype": "text/x-python",
   "name": "python",
   "nbconvert_exporter": "python",
   "pygments_lexer": "ipython3",
   "version": "3.8.0"
  }
 },
 "nbformat": 4,
 "nbformat_minor": 4
}
