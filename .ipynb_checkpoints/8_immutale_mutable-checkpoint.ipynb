{
 "cells": [
  {
   "cell_type": "markdown",
   "id": "coastal-performer",
   "metadata": {},
   "source": [
    "### Mutable vs Immutable\n",
    "\n",
    "Jeżeli jeszcze nie było to wspomniane, to jest idealny moment. W Pythonie wszystko jest obiektem. Musimy jednak rozbić sobie te pojęcie na dwa, ponieważ obiekt może być mutowalny i nie nie mutowalny.\n",
    "\n",
    "Spróbujmy wejść w to nieco głębiej - skoro tak jest, to każda stworzona przez nas zmienna jest niczym innym, jak **instancją** obiektu. W momencie utworzenia takiego obiektu, otrzymuje on **unikalny** adres id. Kiedy już taki adres zostanie stworzony, nie może się nigdy zmienić, ale stan jego obiektu może być zmieniany, jeżeli typ jest mutowalny. "
   ]
  },
  {
   "cell_type": "markdown",
   "id": "surgical-breach",
   "metadata": {},
   "source": [
    "#### Obiekty nie mutowalne:\n",
    "\n",
    "* Bool,\n",
    "* Int,\n",
    "* Float,\n",
    "* Tuple,\n",
    "* Str,\n",
    "* Frozenset.\n",
    "\n",
    "### Obikety mutowalne:\n",
    "\n",
    "* List,\n",
    "* Set,\n",
    "* Dict."
   ]
  },
  {
   "cell_type": "markdown",
   "id": "liked-filling",
   "metadata": {},
   "source": [
    "Utwórzmy teraz dwa dokładnie identyczne napisy, a następnie sprawdźmy ich typ i id."
   ]
  },
  {
   "cell_type": "code",
   "execution_count": null,
   "id": "durable-planning",
   "metadata": {},
   "outputs": [],
   "source": [
    "napis_1 = \"Kotek\"\n",
    "napis_2 = \"Kotek\"\n",
    "\n",
    "print(id(napis_1))\n",
    "print(id(napis_2))"
   ]
  },
  {
   "cell_type": "markdown",
   "id": "mexican-discovery",
   "metadata": {},
   "source": [
    "Tak jak widać na powyższym przykładzie, typy id dały nam dokładnie taki sam adres!\n",
    "\n",
    "Dzieje się tak dlatego, że w przypadku typów niemutowlanych Python nie będzie zaśmieciał nam pamięci i jeżeli wartości zapisane w tych obiektach są takie same, to przekaże jedynie referencje do obiektu."
   ]
  },
  {
   "cell_type": "markdown",
   "id": "confidential-profit",
   "metadata": {},
   "source": [
    "Co się stanie w przypadku liczb?"
   ]
  },
  {
   "cell_type": "code",
   "execution_count": null,
   "id": "funky-petersburg",
   "metadata": {},
   "outputs": [],
   "source": [
    "liczba_1 = 5\n",
    "liczba_2 = 5\n",
    "\n",
    "print(id(liczba_1))\n",
    "print(id(liczba_2))"
   ]
  },
  {
   "cell_type": "markdown",
   "id": "dangerous-documentation",
   "metadata": {},
   "source": [
    "O! Tak jak widać, tutaj również id zostanie dokładnie takie samo!"
   ]
  },
  {
   "cell_type": "markdown",
   "id": "equipped-surrey",
   "metadata": {},
   "source": [
    "Spróbujmy sobie teraz wejść jeszcze głębiej. Zdefiniuje dwie liczby, a następnie do jednego obiektu przypiszę drugi. W programie zmienię potem wartość drugiego obiektu i sprawdzę ich id."
   ]
  },
  {
   "cell_type": "code",
   "execution_count": null,
   "id": "exterior-overall",
   "metadata": {},
   "outputs": [],
   "source": [
    "liczba_1 = 7\n",
    "liczba_2 = liczba_1\n",
    "print(\"Przed zmiana: \")\n",
    "print(id(liczba_1))\n",
    "print(id(liczba_2))\n",
    "\n",
    "liczba_2 = 8\n",
    "\n",
    "print(\"Po zmianie: \")\n",
    "print(id(liczba_1))\n",
    "print(id(liczba_2))"
   ]
  },
  {
   "cell_type": "markdown",
   "id": "straight-charleston",
   "metadata": {},
   "source": [
    "Ku naszemu zaskoczeniu, pomimo tego, że oby dwa obiekty były nastawione na takie samo id, zmieniła się wartość i drugi obiekt dostał zupełnie nowy adres id!"
   ]
  },
  {
   "cell_type": "markdown",
   "id": "constant-watershed",
   "metadata": {},
   "source": [
    "Co w przypadku, kiedy zastosujemy to samo podejście w przypadku obiektów mutowalnych?\n",
    "\n",
    "W tym celu zdefiniuję listę, a następnie przypiszę jedną do drugiej, zmienię wartość i spróbujemy zobaczyć, co się dzieje z jej id i wartościami w środku."
   ]
  },
  {
   "cell_type": "code",
   "execution_count": 13,
   "id": "serial-thanksgiving",
   "metadata": {},
   "outputs": [
    {
     "name": "stdout",
     "output_type": "stream",
     "text": [
      "Przed zmiana: \n",
      "140219748655816\n",
      "140219748655816\n",
      "[1, 2, 3]\n",
      "[1, 2, 3]\n",
      "Po zmianie: \n",
      "140219748655816\n",
      "140219748655816\n",
      "[4, 2, 3]\n",
      "[4, 2, 3]\n"
     ]
    }
   ],
   "source": [
    "lista_1 = [1, 2, 3]\n",
    "lista_2 = lista_1\n",
    "\n",
    "print(\"Przed zmiana: \")\n",
    "print(id(lista_1))\n",
    "print(id(lista_2))\n",
    "print(lista_1)\n",
    "print(lista_2)\n",
    "\n",
    "lista_2[0] = 4\n",
    "\n",
    "print(\"Po zmianie: \")\n",
    "print(id(lista_1))\n",
    "print(id(lista_2))\n",
    "print(lista_1)\n",
    "print(lista_2)"
   ]
  },
  {
   "cell_type": "markdown",
   "id": "twelve-focus",
   "metadata": {},
   "source": [
    "Ku naszemu zdziwieniu, pomimo tego, że mamy dwa obiekty, a zmieniliśmy wartość tylko w jednym to drugi obiekt również zmienił swoją wartość! Należy na to uważać, a te przykłady zostaną dokładniej opisane w rozdziale dotyczącym **Kopiowania w Pythonie**."
   ]
  }
 ],
 "metadata": {
  "kernelspec": {
   "display_name": "Python 3",
   "language": "python",
   "name": "python3"
  },
  "language_info": {
   "codemirror_mode": {
    "name": "ipython",
    "version": 3
   },
   "file_extension": ".py",
   "mimetype": "text/x-python",
   "name": "python",
   "nbconvert_exporter": "python",
   "pygments_lexer": "ipython3",
   "version": "3.6.9"
  }
 },
 "nbformat": 4,
 "nbformat_minor": 5
}
