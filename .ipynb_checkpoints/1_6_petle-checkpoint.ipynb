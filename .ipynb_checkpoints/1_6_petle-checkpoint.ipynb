{
 "cells": [
  {
   "cell_type": "markdown",
   "metadata": {},
   "source": [
    "### Pętle\n",
    "\n",
    "Często pracując z dowolnym językiem programowania musimy powtarzać pewne bloki kodu. Gdyby rozwarzyć sytuacje, w której musimy powtórzyć sto razy pewną operację mechanicznie, to wpadlibyśmy w pułapkę, dzięki której stracilibyśmy znacznie na swoim czasie i jednocześnie czytelności kodu. Z pomocą przychodzą do pętle, które w dosłownym tłumaczeniu pozwalają nam zapętlać bloki kodu, który napisaliśmy.\n",
    "\n",
    "W języku Python wyróżniamy dwie pętle. Pętla **for** i pętla **while**. Pętla **for** różni się od pętli **while** dosyć znacząco. Pętla **for** przyjmuje w swojej zasadzie iteracje po sekwencjach. Pętla **while** działa, dopóki jakieś wyrażenie jest prawdziwe. Na ten moment to może dość zagmatwane, ale prościej to przedstawić na przykładzie."
   ]
  },
  {
   "cell_type": "code",
   "execution_count": null,
   "metadata": {},
   "outputs": [],
   "source": [
    "for i in range(6):\n",
    "    print(i)"
   ]
  },
  {
   "cell_type": "markdown",
   "metadata": {},
   "source": [
    "W przypadku pętli **for** musimy podać nazwę zmiennej, która będzie reprezentacją zmiennej, która jest aktualnie iterowana, następnie podajemy słowo kluczowe **in**, a następnie sekwencje, po której chcemy iterować. W tym przypadku jest to funkcja **range**.\n",
    "\n",
    "Funkcja **range** pozwala stworzyć sekwencje liczb i przyjmuje trzy argumenty, z czego jeden jest opcjonalny:\n",
    "range(start, stop, step)\n",
    "\n",
    "* start - Liczba całkowita, od której sekwencja powinna się zacząć.\n",
    "* stop - Liczba całkowita, na której sekwencja powinna zwrócić wartość. Zawsze w przypadku naszej iteracji będzie oan o jeden mniejsza od podanej.\n",
    "* step - Liczba całkowita, która determinuje co jaki krok chcemy mieć stworzoną sekwencje."
   ]
  },
  {
   "cell_type": "markdown",
   "metadata": {},
   "source": [
    "Stwórzmy sobie teraz sekwencje **range**, która będzie reprezentować liczby nieparzyste od 1 do 19, a następnie spróbujmy wyświetlić te liczby w konsoli."
   ]
  },
  {
   "cell_type": "code",
   "execution_count": null,
   "metadata": {},
   "outputs": [],
   "source": [
    "for i in range(1, 20, 2):\n",
    "    print(f\"Kolejna liczba nieparzysta: {i}\")"
   ]
  },
  {
   "cell_type": "markdown",
   "metadata": {},
   "source": [
    "Co jest bardzo ważne - pętla **for** pozwala również iterować przez przeróżne typy danych w Pythonie. Sprawdźmy co się stanie w momencie, kiedy przepuścimy pętle **for** przez napis \"Ala ma kota\""
   ]
  },
  {
   "cell_type": "code",
   "execution_count": null,
   "metadata": {},
   "outputs": [],
   "source": [
    "napis = \"Ala ma kota\""
   ]
  },
  {
   "cell_type": "code",
   "execution_count": null,
   "metadata": {},
   "outputs": [],
   "source": [
    "for i in napis:\n",
    "    print(i)"
   ]
  },
  {
   "cell_type": "markdown",
   "metadata": {},
   "source": [
    "Tak, jak widać na powyższym przykładzie - naszym wynikiem będzie przeiterowanie po każdej literze w tym napisie. Traktujmy to póki co jako wstęp, do dalszych iteracji po innych strukturach danych w Pythonie."
   ]
  },
  {
   "cell_type": "markdown",
   "metadata": {},
   "source": [
    "Spróbujmy jeszcze jednego dość praktycznego przykładu - zróbić sumę liczb całkowitych od 1 do 100."
   ]
  },
  {
   "cell_type": "code",
   "execution_count": null,
   "metadata": {},
   "outputs": [],
   "source": [
    "suma = 0\n",
    "\n",
    "for i in range(1, 101):\n",
    "    suma += i\n",
    "    \n",
    "print(f\"Suma 100 liczb od 1 do 100 = {suma}\")"
   ]
  },
  {
   "cell_type": "markdown",
   "metadata": {},
   "source": [
    "Skoro podstawy pętli **for** mamy już za sobą, spróbujmy teraz nieco popracować z pętla **while**. Ustalmy sobie w tym przypadku wartość \"Samoloty\" na liczbę 0 oraz wartość logiczną \"Loty\" na wartość True. Następnie stwórzmy pętle - będzie uzależniona od zmiennej \"Loty\", która cały czas do wartości Samoloty dodaje 1, aż do momentu, w którym wartość Samoloty osiągnie wartość równą 8. W tym momencie wartość logiczna Loty powinna zmienić się na False, a pętla zakończyć działanie."
   ]
  },
  {
   "cell_type": "code",
   "execution_count": 31,
   "metadata": {},
   "outputs": [
    {
     "name": "stdout",
     "output_type": "stream",
     "text": [
      "Samoloty, ktore przelecialy: 8\n"
     ]
    }
   ],
   "source": [
    "Samoloty = 0\n",
    "Loty = True\n",
    "\n",
    "while Loty:\n",
    "    Samoloty += 1\n",
    "    if Samoloty > 7:\n",
    "        Loty = False\n",
    "        \n",
    "print(f\"Samoloty, ktore przelecialy: {Samoloty}\")"
   ]
  },
  {
   "cell_type": "markdown",
   "metadata": {},
   "source": [
    "W przypadku pętli **while** rozróżniamy również dwa istotne słowa kluczowe: **break**, które pozwala natychmiastowo przerwać działanie pętli, oraz **continiue** które powoduje kontynuacje pętli."
   ]
  },
  {
   "cell_type": "markdown",
   "metadata": {},
   "source": [
    "Zadeklarujmy sobie pętle **while**, która będzie obliczała sumę - w momencie, kiedy suma osiągnie wartość WIĘKSZĄ niż 10, pętla powinna natychmiastowo skończyć działanie."
   ]
  },
  {
   "cell_type": "code",
   "execution_count": null,
   "metadata": {},
   "outputs": [],
   "source": [
    "suma = 0\n",
    "Warunek = True\n",
    "\n",
    "while Warunek:\n",
    "    suma += 1\n",
    "    \n",
    "    if suma > 9:\n",
    "        break\n",
    "        \n",
    "print(f\"Wartosc sumy {suma}\")"
   ]
  },
  {
   "cell_type": "markdown",
   "metadata": {},
   "source": [
    "Oczywiście powyższy przykład można wykonać w znacznie łatwy sposób, unikając dodatkowy linii kodu:"
   ]
  },
  {
   "cell_type": "code",
   "execution_count": null,
   "metadata": {},
   "outputs": [],
   "source": [
    "suma = 0\n",
    "\n",
    "while suma < 10:\n",
    "    suma += 1\n",
    "    \n",
    "print(f\"Wartosc sumy: {suma}\")"
   ]
  }
 ],
 "metadata": {
  "kernelspec": {
   "display_name": "Python 3",
   "language": "python",
   "name": "python3"
  },
  "language_info": {
   "codemirror_mode": {
    "name": "ipython",
    "version": 3
   },
   "file_extension": ".py",
   "mimetype": "text/x-python",
   "name": "python",
   "nbconvert_exporter": "python",
   "pygments_lexer": "ipython3",
   "version": "3.8.0"
  }
 },
 "nbformat": 4,
 "nbformat_minor": 4
}
