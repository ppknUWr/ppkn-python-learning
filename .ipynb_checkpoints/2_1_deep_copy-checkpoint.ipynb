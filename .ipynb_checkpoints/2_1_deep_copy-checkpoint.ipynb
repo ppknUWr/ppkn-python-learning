{
 "cells": [
  {
   "cell_type": "markdown",
   "id": "received-soundtrack",
   "metadata": {},
   "source": [
    "### Kopiowanie Głębokie vs Płytkie\n",
    "\n",
    "W Pythonie używamy operatora **=** aby stworzyć kopię obiektu. Wiele osób przyjmuje, że operator **=** tworzy nowy obiekt, jednak tak nie jest. Operator równa się jedyne co robi, to tworzy nową zmienną, która dzieli referencję do oryginalnego obiektu.\n",
    "\n",
    "Dobrym przykładem jest użycie operatora **=** na listach:"
   ]
  },
  {
   "cell_type": "code",
   "execution_count": null,
   "id": "acting-facial",
   "metadata": {},
   "outputs": [],
   "source": [
    "lista_1 = [2, 3, 4]\n",
    "lista_2 = lista_1\n",
    "\n",
    "# Zmieniamy jeden z elementów:\n",
    "\n",
    "lista_2[0] = 4\n",
    "\n",
    "print(f\"Pierwsza lista: {lista_1} \")\n",
    "print(f\"ID Pierwszej listy: {id(lista_1)}\")\n",
    "print(f\"Druga lista: {lista_2}\")\n",
    "print(f\"ID Drugiej listy: {id(lista_2)}\")"
   ]
  },
  {
   "cell_type": "markdown",
   "id": "indian-supplement",
   "metadata": {},
   "source": [
    "Dokładnie tak jak się spodziewaliśmy, oby dwie listy mają takie same id. W takim wypadku w momencie, kiedy zmienimy cokolwiek w liście 2, to lista 1 również odnotuje te zmiany."
   ]
  },
  {
   "cell_type": "markdown",
   "id": "everyday-fluid",
   "metadata": {},
   "source": [
    "W takim wypadku, często programując musimy zachować pierwotny stan obiektu pierwszego, jaki zainicjowaliśmy, a naszą modyfikacje wprowadzić tylko dla skopiowanego obiektu. W Pythonie rozróżniamy dwa sposoby, na tworzenie kopii:\n",
    "\n",
    "1. Shallow Copy\n",
    "2. Deep Copy"
   ]
  },
  {
   "cell_type": "markdown",
   "id": "opening-guyana",
   "metadata": {},
   "source": [
    "### Shallow Copy (Kopiowanie płytkie)\n",
    "\n",
    "Kopiowanie płytkie tworzy nowy obiekt, który przetrzymuje referencje do obiektu oryginalnego."
   ]
  },
  {
   "cell_type": "code",
   "execution_count": null,
   "id": "coordinated-turtle",
   "metadata": {},
   "outputs": [],
   "source": [
    "import copy\n",
    "\n",
    "lista_1 [3, 4, 5]\n",
    "lista_2 = copy.copy(lista_1)\n",
    "\n",
    "print(f\"Lista 1: {lista_1}\")\n",
    "print(f\"ID Listy 1: {id(lista_1)}\")\n",
    "print(f\"Lista 2: {lista_2}\")"
   ]
  }
 ],
 "metadata": {
  "kernelspec": {
   "display_name": "Python 3",
   "language": "python",
   "name": "python3"
  },
  "language_info": {
   "codemirror_mode": {
    "name": "ipython",
    "version": 3
   },
   "file_extension": ".py",
   "mimetype": "text/x-python",
   "name": "python",
   "nbconvert_exporter": "python",
   "pygments_lexer": "ipython3",
   "version": "3.6.9"
  }
 },
 "nbformat": 4,
 "nbformat_minor": 5
}
