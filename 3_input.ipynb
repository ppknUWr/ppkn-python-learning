{
 "cells": [
  {
   "cell_type": "markdown",
   "metadata": {},
   "source": [
    "### Jak wprowadzać dane z klawiatury do programu?\n",
    "\n",
    "W Pythonie istnieje funkcja input(), która w łatwy sposób pozwala nam wprowadzać dane do naszego programu z poziomu konsoli.\n",
    "\n",
    "**Funkcja input**\n",
    "\n",
    "*input()* to funkcja, która wczytuje linę, która zapisaliśmy w konsoli, konwertuje ją na typ **str** i zwraca."
   ]
  },
  {
   "cell_type": "code",
   "execution_count": null,
   "metadata": {},
   "outputs": [],
   "source": [
    "a = input()"
   ]
  },
  {
   "cell_type": "code",
   "execution_count": null,
   "metadata": {},
   "outputs": [],
   "source": [
    "type(a) # Spodziewamy się str, mimo, że wprowadziliśmy liczbę, która powinna wskazywać na typ int"
   ]
  },
  {
   "cell_type": "code",
   "execution_count": null,
   "metadata": {},
   "outputs": [],
   "source": [
    "b = int(input())"
   ]
  },
  {
   "cell_type": "code",
   "execution_count": null,
   "metadata": {},
   "outputs": [],
   "source": [
    "type(b) # W tym przypadku spodziewamy się int, ponieważ zaraz po wprowadzeniu konwertujemy wprowadzony typ str na int"
   ]
  },
  {
   "cell_type": "code",
   "execution_count": null,
   "metadata": {},
   "outputs": [],
   "source": []
  }
 ],
 "metadata": {
  "kernelspec": {
   "display_name": "Python 3",
   "language": "python",
   "name": "python3"
  },
  "language_info": {
   "codemirror_mode": {
    "name": "ipython",
    "version": 3
   },
   "file_extension": ".py",
   "mimetype": "text/x-python",
   "name": "python",
   "nbconvert_exporter": "python",
   "pygments_lexer": "ipython3",
   "version": "3.8.0"
  }
 },
 "nbformat": 4,
 "nbformat_minor": 4
}
