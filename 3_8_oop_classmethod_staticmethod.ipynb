{
 "cells": [
  {
   "cell_type": "markdown",
   "metadata": {},
   "source": [
    "### Classmethod i Staticmethod\n",
    "\n",
    "Generalnie w programowaniu obiektowym w Pythonie musimy czasami zdefinować jakąś funkcję, która nie będzie wpływana tylko na instancje, a całą klasę, oraz funkcję, która nie przyjmuje ani klasy, ani instancji jako argument.\n",
    "\n",
    "Co to znaczy?"
   ]
  },
  {
   "cell_type": "code",
   "execution_count": 26,
   "metadata": {},
   "outputs": [],
   "source": [
    "class Pracownik():\n",
    "    \n",
    "    wzrost_pensji_po_roku = 1.03\n",
    "    \n",
    "    def __init__(self, imie, nazwisko, wyplata):\n",
    "        self.imie = imie\n",
    "        self.nazwisko = nazwisko\n",
    "        self.wyplata = wyplata\n",
    "        \n",
    "    def imie_i_nazwisko(self):\n",
    "        return f\"{self.imie} {self.nazwisko}\""
   ]
  },
  {
   "cell_type": "code",
   "execution_count": 27,
   "metadata": {},
   "outputs": [],
   "source": [
    "pracownik_1 = Pracownik(\"Jan\", \"Kowalski\", 4500)"
   ]
  },
  {
   "cell_type": "code",
   "execution_count": 28,
   "metadata": {},
   "outputs": [],
   "source": [
    "pracownik_2 = Pracownik(\"Mariusz\", \"Wisniewski\", 5000)"
   ]
  },
  {
   "cell_type": "code",
   "execution_count": 29,
   "metadata": {},
   "outputs": [
    {
     "data": {
      "text/plain": [
       "'Jan Kowalski'"
      ]
     },
     "execution_count": 29,
     "metadata": {},
     "output_type": "execute_result"
    }
   ],
   "source": [
    "pracownik_1.imie_i_nazwisko()"
   ]
  },
  {
   "cell_type": "code",
   "execution_count": 30,
   "metadata": {},
   "outputs": [
    {
     "data": {
      "text/plain": [
       "1.03"
      ]
     },
     "execution_count": 30,
     "metadata": {},
     "output_type": "execute_result"
    }
   ],
   "source": [
    "pracownik_1.wzrost_pensji_po_roku"
   ]
  },
  {
   "cell_type": "code",
   "execution_count": 32,
   "metadata": {},
   "outputs": [],
   "source": [
    "class Pracownik():\n",
    "    \n",
    "    wzrost_pensji_po_roku = 1.03\n",
    "    \n",
    "    def __init__(self, imie, nazwisko, wyplata):\n",
    "        self.imie = imie\n",
    "        self.nazwisko = nazwisko\n",
    "        self.wyplata = wyplata\n",
    "        \n",
    "    def imie_i_nazwisko(self):\n",
    "        return f\"{self.imie} {self.nazwisko}\"\n",
    "    \n",
    "    @classmethod\n",
    "    def ustaw_pensje_po_roku(cls, nowa_wartosc):\n",
    "        cls.wzrost_pensji_po_roku = nowa_wartosc"
   ]
  },
  {
   "cell_type": "code",
   "execution_count": 49,
   "metadata": {},
   "outputs": [],
   "source": [
    "Pracownik.wzrost_pensji_po_roku = 1.05"
   ]
  },
  {
   "cell_type": "code",
   "execution_count": 33,
   "metadata": {},
   "outputs": [],
   "source": [
    "pracownik_1 = Pracownik(\"Jan\", \"Kowalski\", 4500)"
   ]
  },
  {
   "cell_type": "code",
   "execution_count": 34,
   "metadata": {},
   "outputs": [],
   "source": [
    "pracownik_2 = Pracownik(\"Mariusz\", \"Wisniewski\", 5000)"
   ]
  },
  {
   "cell_type": "code",
   "execution_count": 50,
   "metadata": {},
   "outputs": [],
   "source": [
    "pracownik_1.wzrost_pensji_po_roku = 1.05"
   ]
  },
  {
   "cell_type": "code",
   "execution_count": 51,
   "metadata": {},
   "outputs": [
    {
     "data": {
      "text/plain": [
       "1.05"
      ]
     },
     "execution_count": 51,
     "metadata": {},
     "output_type": "execute_result"
    }
   ],
   "source": [
    "pracownik_1.wzrost_pensji_po_roku"
   ]
  },
  {
   "cell_type": "code",
   "execution_count": 52,
   "metadata": {},
   "outputs": [
    {
     "data": {
      "text/plain": [
       "1.05"
      ]
     },
     "execution_count": 52,
     "metadata": {},
     "output_type": "execute_result"
    }
   ],
   "source": [
    "pracownik_2.wzrost_pensji_po_roku"
   ]
  },
  {
   "cell_type": "code",
   "execution_count": 37,
   "metadata": {},
   "outputs": [],
   "source": [
    "Pracownik.ustaw_pensje_po_roku(1.05)"
   ]
  },
  {
   "cell_type": "code",
   "execution_count": 38,
   "metadata": {},
   "outputs": [
    {
     "data": {
      "text/plain": [
       "1.05"
      ]
     },
     "execution_count": 38,
     "metadata": {},
     "output_type": "execute_result"
    }
   ],
   "source": [
    "pracownik_1.wzrost_pensji_po_roku"
   ]
  },
  {
   "cell_type": "code",
   "execution_count": 39,
   "metadata": {},
   "outputs": [
    {
     "data": {
      "text/plain": [
       "1.05"
      ]
     },
     "execution_count": 39,
     "metadata": {},
     "output_type": "execute_result"
    }
   ],
   "source": [
    "pracownik_2.wzrost_pensji_po_roku"
   ]
  },
  {
   "cell_type": "code",
   "execution_count": 40,
   "metadata": {},
   "outputs": [],
   "source": [
    "class Pracownik():\n",
    "    \n",
    "    wzrost_pensji_po_roku = 1.03\n",
    "    \n",
    "    def __init__(self, imie, nazwisko, wyplata):\n",
    "        self.imie = imie\n",
    "        self.nazwisko = nazwisko\n",
    "        self.wyplata = wyplata\n",
    "        \n",
    "    def imie_i_nazwisko(self):\n",
    "        return f\"{self.imie} {self.nazwisko}\"\n",
    "    \n",
    "    @classmethod\n",
    "    def ustaw_pensje_po_roku(cls, nowa_wartosc):\n",
    "        cls.wzrost_pensji_po_roku = nowa_wartosc\n",
    "        \n",
    "    @staticmethod\n",
    "    def czy_dzien_pracy(dzien):\n",
    "        return False if dzien.weekday() == 5 or dzien.weekday() == 6 else True"
   ]
  },
  {
   "cell_type": "code",
   "execution_count": 41,
   "metadata": {},
   "outputs": [],
   "source": [
    "import datetime"
   ]
  },
  {
   "cell_type": "code",
   "execution_count": 42,
   "metadata": {},
   "outputs": [],
   "source": [
    "data = datetime.date(2021, 1, 14)"
   ]
  },
  {
   "cell_type": "code",
   "execution_count": 43,
   "metadata": {},
   "outputs": [
    {
     "name": "stdout",
     "output_type": "stream",
     "text": [
      "True\n"
     ]
    }
   ],
   "source": [
    "print(Pracownik.czy_dzien_pracy(data))"
   ]
  },
  {
   "cell_type": "code",
   "execution_count": 44,
   "metadata": {},
   "outputs": [],
   "source": [
    "pracownik_1 = Pracownik(\"Jan\", \"Kowalski\", 4500)"
   ]
  },
  {
   "cell_type": "code",
   "execution_count": 45,
   "metadata": {},
   "outputs": [
    {
     "data": {
      "text/plain": [
       "True"
      ]
     },
     "execution_count": 45,
     "metadata": {},
     "output_type": "execute_result"
    }
   ],
   "source": [
    "pracownik_1.czy_dzien_pracy(data)"
   ]
  },
  {
   "cell_type": "code",
   "execution_count": null,
   "metadata": {},
   "outputs": [],
   "source": []
  }
 ],
 "metadata": {
  "kernelspec": {
   "display_name": "Python 3",
   "language": "python",
   "name": "python3"
  },
  "language_info": {
   "codemirror_mode": {
    "name": "ipython",
    "version": 3
   },
   "file_extension": ".py",
   "mimetype": "text/x-python",
   "name": "python",
   "nbconvert_exporter": "python",
   "pygments_lexer": "ipython3",
   "version": "3.8.0"
  }
 },
 "nbformat": 4,
 "nbformat_minor": 4
}
