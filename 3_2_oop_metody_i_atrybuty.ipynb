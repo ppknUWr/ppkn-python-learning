{
 "cells": [
  {
   "cell_type": "markdown",
   "metadata": {},
   "source": [
    "### Metody i atrybuty\n",
    "\n",
    "Przejdźmy teraz po nieco dokładniejszej analizie tego, co dzieje się w Pythonie w momencie, kiedy definiujemy klasę."
   ]
  },
  {
   "cell_type": "code",
   "execution_count": 1,
   "metadata": {},
   "outputs": [
    {
     "name": "stdout",
     "output_type": "stream",
     "text": [
      "The history saving thread hit an unexpected error (DatabaseError('database disk image is malformed')).History will not be written to the database.\n"
     ]
    }
   ],
   "source": [
    "class PrzykladowaKlasa:\n",
    "    \"\"\"Przykładowa klasa na potrzeby nauki\"\"\"\n",
    "    ile_mam_lat = 2 # To jest pole/dane\n",
    "    \n",
    "    def zrob_cos(self):\n",
    "        \"\"\"Metoda klasy na potrzeby nauki\n",
    "        @param - Nie przyjmuje zadnych parametrow (None)\n",
    "        @return - Nie zwraca zadnych parametrow (None)\n",
    "        \n",
    "        \"\"\"\n",
    "        print(\"Jestem zrob cosiem\")"
   ]
  },
  {
   "cell_type": "code",
   "execution_count": 2,
   "metadata": {},
   "outputs": [
    {
     "data": {
      "text/plain": [
       "mappingproxy({'__module__': '__main__',\n",
       "              '__doc__': 'Przykładowa klasa na potrzeby nauki',\n",
       "              'ile_mam_lat': 2,\n",
       "              'zrob_cos': <function __main__.PrzykladowaKlasa.zrob_cos(self)>,\n",
       "              '__dict__': <attribute '__dict__' of 'PrzykladowaKlasa' objects>,\n",
       "              '__weakref__': <attribute '__weakref__' of 'PrzykladowaKlasa' objects>})"
      ]
     },
     "execution_count": 2,
     "metadata": {},
     "output_type": "execute_result"
    }
   ],
   "source": [
    "PrzykladowaKlasa.__dict__ # Sprawdźmy sobie mappingproxy tego obiektu, czyli co siedzi w środku"
   ]
  },
  {
   "cell_type": "code",
   "execution_count": 3,
   "metadata": {},
   "outputs": [
    {
     "data": {
      "text/plain": [
       "<function __main__.PrzykladowaKlasa.zrob_cos(self)>"
      ]
     },
     "execution_count": 3,
     "metadata": {},
     "output_type": "execute_result"
    }
   ],
   "source": [
    "PrzykladowaKlasa.__dict__['zrob_cos'] # Czym dokładnie jest funkcja zrob_cos i co siedzi w środku"
   ]
  },
  {
   "cell_type": "code",
   "execution_count": 4,
   "metadata": {},
   "outputs": [],
   "source": [
    "przykladowa_klasa = PrzykladowaKlasa() # Stworzenie instancji obiektu"
   ]
  },
  {
   "cell_type": "code",
   "execution_count": 5,
   "metadata": {},
   "outputs": [
    {
     "data": {
      "text/plain": [
       "{}"
      ]
     },
     "execution_count": 5,
     "metadata": {},
     "output_type": "execute_result"
    }
   ],
   "source": [
    "przykladowa_klasa.__dict__"
   ]
  },
  {
   "cell_type": "code",
   "execution_count": 6,
   "metadata": {},
   "outputs": [
    {
     "name": "stdout",
     "output_type": "stream",
     "text": [
      "Jestem zrob cosiem\n"
     ]
    }
   ],
   "source": [
    "przykladowa_klasa.zrob_cos()"
   ]
  },
  {
   "cell_type": "code",
   "execution_count": 7,
   "metadata": {},
   "outputs": [
    {
     "ename": "TypeError",
     "evalue": "zrob_cos() missing 1 required positional argument: 'self'",
     "output_type": "error",
     "traceback": [
      "\u001b[0;31m---------------------------------------------------------------------------\u001b[0m",
      "\u001b[0;31mTypeError\u001b[0m                                 Traceback (most recent call last)",
      "\u001b[0;32m<ipython-input-7-2b6484d66587>\u001b[0m in \u001b[0;36m<module>\u001b[0;34m\u001b[0m\n\u001b[0;32m----> 1\u001b[0;31m \u001b[0mPrzykladowaKlasa\u001b[0m\u001b[0;34m.\u001b[0m\u001b[0mzrob_cos\u001b[0m\u001b[0;34m(\u001b[0m\u001b[0;34m)\u001b[0m \u001b[0;31m# Dostaniemy błąd, ponieważ klasa oczekuje na REFERENCJE do INSTANCJI obiektu\u001b[0m\u001b[0;34m\u001b[0m\u001b[0;34m\u001b[0m\u001b[0m\n\u001b[0m",
      "\u001b[0;31mTypeError\u001b[0m: zrob_cos() missing 1 required positional argument: 'self'"
     ]
    }
   ],
   "source": [
    "PrzykladowaKlasa.zrob_cos() # Dostaniemy błąd, ponieważ klasa oczekuje na REFERENCJE do INSTANCJI obiektu"
   ]
  },
  {
   "cell_type": "code",
   "execution_count": 8,
   "metadata": {},
   "outputs": [
    {
     "name": "stdout",
     "output_type": "stream",
     "text": [
      "Jestem zrob cosiem\n"
     ]
    }
   ],
   "source": [
    "PrzykladowaKlasa.zrob_cos(przykladowa_klasa) # Tutaj zadziała"
   ]
  },
  {
   "cell_type": "code",
   "execution_count": 9,
   "metadata": {},
   "outputs": [
    {
     "name": "stdout",
     "output_type": "stream",
     "text": [
      "Jestem zrob cosiem\n"
     ]
    }
   ],
   "source": [
    "from operator import methodcaller\n",
    "methodcaller('zrob_cos')(przykladowa_klasa) # Wywołanie metody za pomocą biblioteki operator"
   ]
  },
  {
   "cell_type": "code",
   "execution_count": 10,
   "metadata": {},
   "outputs": [],
   "source": [
    "zrob_cos_funkcja = przykladowa_klasa.zrob_cos # Przypisanie metody do funkcji"
   ]
  },
  {
   "cell_type": "code",
   "execution_count": 11,
   "metadata": {},
   "outputs": [
    {
     "data": {
      "text/plain": [
       "<bound method PrzykladowaKlasa.zrob_cos of <__main__.PrzykladowaKlasa object at 0x7feb39290160>>"
      ]
     },
     "execution_count": 11,
     "metadata": {},
     "output_type": "execute_result"
    }
   ],
   "source": [
    "zrob_cos_funkcja # Dostaniemy informacje o tym, z jakim obiektem jest związana funkcja"
   ]
  },
  {
   "cell_type": "code",
   "execution_count": 12,
   "metadata": {},
   "outputs": [
    {
     "name": "stdout",
     "output_type": "stream",
     "text": [
      "Jestem zrob cosiem\n"
     ]
    }
   ],
   "source": [
    "zrob_cos_funkcja() # Wywołanie metody"
   ]
  },
  {
   "cell_type": "code",
   "execution_count": null,
   "metadata": {},
   "outputs": [],
   "source": []
  }
 ],
 "metadata": {
  "kernelspec": {
   "display_name": "Python 3",
   "language": "python",
   "name": "python3"
  },
  "language_info": {
   "codemirror_mode": {
    "name": "ipython",
    "version": 3
   },
   "file_extension": ".py",
   "mimetype": "text/x-python",
   "name": "python",
   "nbconvert_exporter": "python",
   "pygments_lexer": "ipython3",
   "version": "3.8.0"
  }
 },
 "nbformat": 4,
 "nbformat_minor": 4
}
