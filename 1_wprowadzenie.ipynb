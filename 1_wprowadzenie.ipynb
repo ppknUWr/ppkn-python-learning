{
 "cells": [
  {
   "cell_type": "markdown",
   "metadata": {},
   "source": [
    " ### Wprowadzenie\n",
    " \n",
    " Python to język wysokiego poziomu, który cechuje się głównie prostotą pisania kodu, zarządzania kodem i jednocześnie jest przyjazny do nauki (przynajmniej na początku). Warto się przy nim zatrzymać szczególnie wtedy, kiedy zaczyna się swoją przygodę z programowaniem. Python jest **dynamicznie typowany** co znaczy, że interpreter sam przypisuje sobie typ zmiennej do wprowadzonego przez nas obiektu.\n",
    "\n",
    "**Krótko mówiąc** - programując w języku Python, nie musimy definiować z góry, co będzie przechowywane w szufladzie, jak ma to miejsce chociażby w C++, czy Scali. Nie znaczy to jednak, że nie możemy sprawdzić, jaki typ danych został przypisany do naszej zmiennej.\n",
    "\n",
    "#### Rozróżnijmy teraz typy danych, jakie możemy spotkać w języku Python\n",
    "\n",
    "*Typy tekstowe:* - **str** (pozwala na przechowywanie tekstów)</br>\n",
    "*Typy numeryczne:* - **int** (pozwala na przechowywanie liczb całkowitych), **float** (pozwala na przechowywanie liczb zmiennoprzecinkowych), **complex** (pozwala na przechowywanie liczb zespolonych)</br>\n",
    "*Typ zerojedynkowy:* - **bool** (pozwala na przechowywanie wartości 0, lub 1. Tłumacząc na nasze: Prawda, lub Fałsz)\n",
    "\n",
    "#### Skoro teoria za nami, to zdefiniujmy kilka zmiennych"
   ]
  },
  {
   "cell_type": "code",
   "execution_count": null,
   "metadata": {},
   "outputs": [],
   "source": [
    "napis = \"Ala ma kota\""
   ]
  },
  {
   "cell_type": "code",
   "execution_count": null,
   "metadata": {},
   "outputs": [],
   "source": [
    "type(napis) # Spodziewamy sie wartosci str"
   ]
  },
  {
   "cell_type": "code",
   "execution_count": null,
   "metadata": {},
   "outputs": [],
   "source": [
    "liczba_calkowita = 54"
   ]
  },
  {
   "cell_type": "code",
   "execution_count": null,
   "metadata": {},
   "outputs": [],
   "source": [
    "type(liczba_calkowita) # Spodziewamy sie wartosci int"
   ]
  },
  {
   "cell_type": "code",
   "execution_count": null,
   "metadata": {},
   "outputs": [],
   "source": [
    "liczba_zmiennoprzecinkowa = 12.45"
   ]
  },
  {
   "cell_type": "code",
   "execution_count": null,
   "metadata": {},
   "outputs": [],
   "source": [
    "type(liczba_zmiennoprzecinkowa) # Spodziewamy sie wartosci float"
   ]
  },
  {
   "cell_type": "code",
   "execution_count": null,
   "metadata": {},
   "outputs": [],
   "source": [
    "wartosc_logiczna = True"
   ]
  },
  {
   "cell_type": "code",
   "execution_count": null,
   "metadata": {},
   "outputs": [],
   "source": [
    "type(wartosc_logiczna) # Spodziewamy sie wartosci bool"
   ]
  },
  {
   "cell_type": "code",
   "execution_count": null,
   "metadata": {},
   "outputs": [],
   "source": [
    "liczba_calkowita_kolejna = int()"
   ]
  },
  {
   "cell_type": "code",
   "execution_count": null,
   "metadata": {},
   "outputs": [],
   "source": [
    "type(liczba_calkowita_kolejna)"
   ]
  },
  {
   "cell_type": "markdown",
   "metadata": {},
   "source": [
    "Poniższy przykład pokazuje nam, że możemy bez problemu przypisać do naszego obiektu z góry założony typ, a Python sam zadeklaruje wartość tego typu - w tym przypadku **inta** - na 0."
   ]
  },
  {
   "cell_type": "code",
   "execution_count": null,
   "metadata": {},
   "outputs": [],
   "source": [
    "print(liczba_calkowita_kolejna)"
   ]
  },
  {
   "cell_type": "code",
   "execution_count": null,
   "metadata": {},
   "outputs": [],
   "source": [
    "liczba_calkowita_kolejna = 352"
   ]
  },
  {
   "cell_type": "code",
   "execution_count": null,
   "metadata": {},
   "outputs": [],
   "source": [
    "print(liczba_calkowita_kolejna)"
   ]
  },
  {
   "cell_type": "markdown",
   "metadata": {},
   "source": [
    "Tak jak widać, do stworzonego już wcześniej obiektu int, możemy przypisać kolejną liczbę"
   ]
  },
  {
   "cell_type": "code",
   "execution_count": null,
   "metadata": {},
   "outputs": [],
   "source": [
    "liczba_calkowita_kolejna = \"Kot ma Ale\""
   ]
  },
  {
   "cell_type": "code",
   "execution_count": null,
   "metadata": {},
   "outputs": [],
   "source": [
    "print(liczba_calkowita_kolejna)"
   ]
  },
  {
   "cell_type": "markdown",
   "metadata": {},
   "source": [
    "Mimo, że zadeklarowaliśmy wcześniej, że obiekt jest typu **int** to Python i tak w momencie przypisania napisu nie dostaniemy błędu, a zmienna zostanie rzutowana na typ **string**"
   ]
  }
 ],
 "metadata": {
  "kernelspec": {
   "display_name": "Python 3",
   "language": "python",
   "name": "python3"
  },
  "language_info": {
   "codemirror_mode": {
    "name": "ipython",
    "version": 3
   },
   "file_extension": ".py",
   "mimetype": "text/x-python",
   "name": "python",
   "nbconvert_exporter": "python",
   "pygments_lexer": "ipython3",
   "version": "3.8.0"
  }
 },
 "nbformat": 4,
 "nbformat_minor": 4
}
