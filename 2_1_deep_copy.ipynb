{
 "cells": [
  {
   "cell_type": "markdown",
   "id": "latest-treatment",
   "metadata": {},
   "source": [
    "### Kopiowanie Głębokie vs Płytkie\n",
    "\n",
    "W Pythonie używamy operatora **=** aby stworzyć kopię obiektu. Wiele osób przyjmuje, że operator **=** tworzy nowy obiekt, jednak tak nie jest. Operator równa się jedyne co robi, to tworzy nową zmienną, która dzieli referencję do oryginalnego obiektu.\n",
    "\n",
    "Dobrym przykładem jest użycie operatora **=** na listach:"
   ]
  },
  {
   "cell_type": "code",
   "execution_count": null,
   "id": "moved-booking",
   "metadata": {},
   "outputs": [],
   "source": [
    "lista_1 = [2, 3, 4]\n",
    "lista_2 = lista_1\n",
    "\n",
    "# Zmieniamy jeden z elementów:\n",
    "\n",
    "lista_2[0] = 4\n",
    "\n",
    "print(f\"Pierwsza lista: {lista_1} \")\n",
    "print(f\"ID Pierwszej listy: {id(lista_1)}\")\n",
    "print(f\"Druga lista: {lista_2}\")\n",
    "print(f\"ID Drugiej listy: {id(lista_2)}\")"
   ]
  },
  {
   "cell_type": "markdown",
   "id": "loose-scroll",
   "metadata": {},
   "source": [
    "Dokładnie tak jak się spodziewaliśmy, oby dwie listy mają takie same id. W takim wypadku w momencie, kiedy zmienimy cokolwiek w liście 2, to lista 1 również odnotuje te zmiany."
   ]
  },
  {
   "cell_type": "markdown",
   "id": "multiple-honor",
   "metadata": {},
   "source": [
    "W takim wypadku, często programując musimy zachować pierwotny stan obiektu pierwszego, jaki zainicjowaliśmy, a naszą modyfikacje wprowadzić tylko dla skopiowanego obiektu. W Pythonie rozróżniamy dwa sposoby, na tworzenie kopii:\n",
    "\n",
    "1. Shallow Copy\n",
    "2. Deep Copy"
   ]
  },
  {
   "cell_type": "markdown",
   "id": "tender-magazine",
   "metadata": {},
   "source": [
    "### Shallow Copy (Kopiowanie płytkie)\n",
    "\n",
    "Kopiowanie płytkie tworzy nowy obiekt, który przetrzymuje referencje do obiektu oryginalnego."
   ]
  },
  {
   "cell_type": "code",
   "execution_count": 4,
   "id": "chemical-illness",
   "metadata": {},
   "outputs": [
    {
     "name": "stdout",
     "output_type": "stream",
     "text": [
      "Lista 1: [3, 4, 5]\n",
      "ID Listy 1: 140471742688584\n",
      "Lista 2: [3, 4, 5]\n",
      "ID Listy 2 140471742192904\n"
     ]
    }
   ],
   "source": [
    "import copy\n",
    "\n",
    "lista_1 = [3, 4, 5]\n",
    "lista_2 = copy.copy(lista_1)\n",
    "\n",
    "print(f\"Lista 1: {lista_1}\")\n",
    "print(f\"ID Listy 1: {id(lista_1)}\")\n",
    "print(f\"Lista 2: {lista_2}\")\n",
    "print(f\"ID Listy 2 {id(lista_2)}\")\n"
   ]
  },
  {
   "cell_type": "markdown",
   "id": "wired-certification",
   "metadata": {},
   "source": [
    "W takim wypadku spróbujmy rozpracować, czy w jakikolwiek sposób te dwa obiekty są ze sobą powiązane:"
   ]
  },
  {
   "cell_type": "code",
   "execution_count": 10,
   "id": "attached-liberty",
   "metadata": {},
   "outputs": [
    {
     "name": "stdout",
     "output_type": "stream",
     "text": [
      "Lista 1: [3, 4, 5]\n",
      "Lista 2: [3, 4, 5, 33, 6, [6, 7]]\n"
     ]
    }
   ],
   "source": [
    "lista_2.append([6, 7]) # Dodajmy kilka elementów do listy 2\n",
    "\n",
    "print(f\"Lista 1: {lista_1}\")\n",
    "print(f\"Lista 2: {lista_2}\")"
   ]
  },
  {
   "cell_type": "markdown",
   "id": "olympic-retreat",
   "metadata": {},
   "source": [
    "Hm. Nic się nie stało, a co w przypadku, kiedy zmienimy wartości w liście 1?"
   ]
  },
  {
   "cell_type": "code",
   "execution_count": 11,
   "id": "geological-multiple",
   "metadata": {},
   "outputs": [
    {
     "name": "stdout",
     "output_type": "stream",
     "text": [
      "Lista 1: [33, 4, 5]\n",
      "Lista 2: [3, 4, 5, 33, 6, [6, 7]]\n"
     ]
    }
   ],
   "source": [
    "lista_1[0] = 33\n",
    "\n",
    "print(f\"Lista 1: {lista_1}\")\n",
    "print(f\"Lista 2: {lista_2}\")"
   ]
  },
  {
   "cell_type": "markdown",
   "id": "civilian-screw",
   "metadata": {},
   "source": [
    "Ponownie nic złego się nie dzieje. Obiekty wydają się nie być powiązane. Spróbujmy teraz zadziałać z listami, które są w sobie zagnieżdżone:"
   ]
  },
  {
   "cell_type": "code",
   "execution_count": 12,
   "id": "dirty-masters",
   "metadata": {},
   "outputs": [
    {
     "name": "stdout",
     "output_type": "stream",
     "text": [
      "Lista 1: [[1, 2, 3], [4, 5, 6], [7, 8, 9]]\n",
      "Lista 2: [[1, 2, 3], [4, 5, 6], [7, 8, 9]]\n"
     ]
    }
   ],
   "source": [
    "lista_1 = [[1, 2, 3], [4, 5, 6], [7, 8, 9]]\n",
    "lista_2 = copy.copy(lista_1)\n",
    "\n",
    "print(f\"Lista 1: {lista_1}\")\n",
    "print(f\"Lista 2: {lista_2}\")"
   ]
  },
  {
   "cell_type": "code",
   "execution_count": 14,
   "id": "labeled-norwegian",
   "metadata": {},
   "outputs": [
    {
     "name": "stdout",
     "output_type": "stream",
     "text": [
      "Lista 1: [[1, 2, 3], [4, 'Zmiana', 6], [7, 8, 9]]\n",
      "Lista 2: [[1, 2, 3], [4, 'Zmiana', 6], [7, 8, 9]]\n"
     ]
    }
   ],
   "source": [
    "lista_1[1][1] = 'Zmiana'\n",
    "\n",
    "print(f\"Lista 1: {lista_1}\")\n",
    "print(f\"Lista 2: {lista_2}\")"
   ]
  },
  {
   "cell_type": "markdown",
   "id": "coordinate-prophet",
   "metadata": {},
   "source": [
    "O. Tutaj widzimy, że pomimo faktu, że zmieniliśmy tylko wartość dla listy pierwszej, to lista druga również zmieniła swoją wartość."
   ]
  },
  {
   "cell_type": "code",
   "execution_count": null,
   "id": "numerical-coordinator",
   "metadata": {},
   "outputs": [],
   "source": []
  }
 ],
 "metadata": {
  "kernelspec": {
   "display_name": "Python 3",
   "language": "python",
   "name": "python3"
  },
  "language_info": {
   "codemirror_mode": {
    "name": "ipython",
    "version": 3
   },
   "file_extension": ".py",
   "mimetype": "text/x-python",
   "name": "python",
   "nbconvert_exporter": "python",
   "pygments_lexer": "ipython3",
   "version": "3.6.9"
  }
 },
 "nbformat": 4,
 "nbformat_minor": 5
}
