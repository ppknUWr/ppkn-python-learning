{
 "cells": [
  {
   "cell_type": "markdown",
   "id": "valuable-voluntary",
   "metadata": {},
   "source": [
    "### Funkcje\n",
    "\n",
    "W Pythonie, dokładnie tak jak w inny językach możemy deklarować swoje własne funkcje. Funkcje mówiąc metaforycznie, to \"maszyny\" w fabryce, które wykonują za nas konkretne zadanie. Programując, funkcje pozwalają na wykonanie kawałków kodu, które cyklicznie się powtarzają i pozwalają znacznie odciążyć pracę programu i ilość powtarzalnych instrukcji.\n",
    "\n",
    "Definijąc funkcję, musimy użyć słowa kluczowego **def** po którym następuje nazwa funkcji, a następnie dwukropek i kod, jaki ma wykonać. Jeżeli chcemy coś zwrócić z funkcji, to musimy użyć słowa kluczowego **return**. Dużo prościej będzie to przedstawić na przykładzie."
   ]
  },
  {
   "cell_type": "markdown",
   "id": "failing-native",
   "metadata": {},
   "source": [
    "Stworzę funkcję, która ma za zadanie zwrócić napis \"Ala ma kota\""
   ]
  },
  {
   "cell_type": "code",
   "execution_count": null,
   "id": "moral-society",
   "metadata": {},
   "outputs": [],
   "source": [
    "def zwroc_napis():\n",
    "    return \"Ala ma kota\"\n",
    "\n",
    "print(zwroc_napis())"
   ]
  },
  {
   "cell_type": "markdown",
   "id": "intelligent-suspect",
   "metadata": {},
   "source": [
    "Tak jak widać na powyższym przykładzie, funkcje możemy zdeifniować za pomocą **def**, następnie w nawiasach kwadratowych podajemy argumenty, jakie przyjmuje i słowem kluczowym **return** zwracamy to, co chcemy uzyskać.\n",
    "\n",
    "Jeżeli chcemy wywołać funkcję, to używamy jej nazwy z nawiasem kwadratowym, który reprezentuje argumenty, które przekazujemy do funkcji."
   ]
  },
  {
   "cell_type": "markdown",
   "id": "lesbian-addiction",
   "metadata": {},
   "source": [
    "### Zatrzymajmy się na chwilę\n",
    "\n",
    "Teoretycznie w Pythonie każda funkcja jest taka sama, ale warto rozróżnić od siebie dwie funkcje.\n",
    "\n",
    "* Funkcje, które coś zwracają za pomocą słowa kluczowego **return**,\n",
    "* Funkcje, które nic nie zwracają.\n",
    "\n",
    "Pokażmy to sobie na przykładzie:"
   ]
  },
  {
   "cell_type": "code",
   "execution_count": null,
   "id": "czech-singer",
   "metadata": {},
   "outputs": [],
   "source": [
    "def zwroc_napis():\n",
    "    return \"Jestem funkcja zwracajaca\"\n",
    "\n",
    "def wyswietl_napis():\n",
    "    print(\"Jestem funkcja nie zwracajaca\")\n",
    "    \n",
    "print(zwroc_napis())\n",
    "print(wyswietl_napis())"
   ]
  },
  {
   "cell_type": "markdown",
   "id": "photographic-resident",
   "metadata": {},
   "source": [
    "A co tu się stało? Wyświetło nam to, co miało wyświetlić i w dodatku dostaliśmy komunikat \"None\"! Dzieje się tak dlatego, ponieważ funkcja zwróciła nam wartość \"None\" i wyświetliła. Jeżeli chcemy się tego pozbyć, to robimy to w ten sposób:"
   ]
  },
  {
   "cell_type": "code",
   "execution_count": null,
   "id": "hearing-science",
   "metadata": {},
   "outputs": [],
   "source": [
    "def zwroc_napis():\n",
    "    return \"Jestem funkcja zwracajaca\"\n",
    "\n",
    "def wyswietl_napis():\n",
    "    print(\"Jestem funkcja nie zwracajca\")\n",
    "    \n",
    "print(zwroc_napis())\n",
    "wyswietl_napis()"
   ]
  },
  {
   "cell_type": "markdown",
   "id": "functioning-series",
   "metadata": {},
   "source": [
    "Skoro mamy to już za sobą, to spróbujmy stworzyć nieco bardziej zaawansowaną funkcję. Funkcja, która przyjmuje dwa parametry, dodaje je do siebie, a następnie zwraca wynik i wyświetla go w konsoli."
   ]
  },
  {
   "cell_type": "code",
   "execution_count": null,
   "id": "utility-cinema",
   "metadata": {},
   "outputs": [],
   "source": [
    "def dodaj_dwie_liczby(liczba_1, liczba_2):\n",
    "    return liczba_1 + liczba_2\n",
    "\n",
    "print(f\"Wynik dodawania to {dodaj_dwie_liczby(3, 5)}\")"
   ]
  },
  {
   "cell_type": "markdown",
   "id": "packed-disco",
   "metadata": {},
   "source": [
    "I na temat podstaw funkcji to wszystko, co powinniśmy wiedzieć!"
   ]
  },
  {
   "cell_type": "code",
   "execution_count": null,
   "id": "identical-professor",
   "metadata": {},
   "outputs": [],
   "source": []
  }
 ],
 "metadata": {
  "kernelspec": {
   "display_name": "Python 3",
   "language": "python",
   "name": "python3"
  },
  "language_info": {
   "codemirror_mode": {
    "name": "ipython",
    "version": 3
   },
   "file_extension": ".py",
   "mimetype": "text/x-python",
   "name": "python",
   "nbconvert_exporter": "python",
   "pygments_lexer": "ipython3",
   "version": "3.6.9"
  }
 },
 "nbformat": 4,
 "nbformat_minor": 5
}
