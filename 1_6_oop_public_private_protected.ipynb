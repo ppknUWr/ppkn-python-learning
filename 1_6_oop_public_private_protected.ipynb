{
 "cells": [
  {
   "cell_type": "markdown",
   "metadata": {},
   "source": [
    "### Dostęp do atrybutów w Pythonie\n",
    "\n",
    "Według paradygmatu wielu języków (C++, C#, Java) można zdefiniować w polach, lub metodach klasy dostęp do nich. Wyróżniamy trzy: public, private i protected. Nie będę się nad tym rozwodzić, ponieważ w Pythonie tego nie ma i domyślnie, **WSZYSTKIE POLA I METODY SĄ PUBLICZNE!**\n",
    "\n",
    "Jedyna co, to istnieje konwencja, że pola i metody, które chcemy oznaczać jako prywante, poprzedzamy \"_\",\n",
    "Natomiast oznaczone jako protected, poprzedzamy \"__\""
   ]
  },
  {
   "cell_type": "code",
   "execution_count": null,
   "metadata": {},
   "outputs": [],
   "source": [
    "class PrzykladowaKlasa:\n",
    "    \n",
    "    _prywatne_pole = \"To jest prywatne pole\"\n",
    "    \n",
    "class PrzykladowaKlasaDziedziczaca(PrzykladowaKlasa):\n",
    "    pass # Oznacza, że nie definiujemy żadnych pól i atrybutów\n",
    "    "
   ]
  },
  {
   "cell_type": "code",
   "execution_count": null,
   "metadata": {},
   "outputs": [],
   "source": [
    "instancja = PrzykladowaKlasaDziedziczaca()"
   ]
  },
  {
   "cell_type": "code",
   "execution_count": null,
   "metadata": {},
   "outputs": [],
   "source": [
    "PrzykladowaKlasa.__dict__"
   ]
  },
  {
   "cell_type": "code",
   "execution_count": null,
   "metadata": {},
   "outputs": [],
   "source": [
    "instancja._prywatne_pole # Dostaniemy wynik \"To jest prywatne pole\""
   ]
  },
  {
   "cell_type": "code",
   "execution_count": null,
   "metadata": {},
   "outputs": [],
   "source": [
    "class PrzykladowaKlasa:\n",
    "    \n",
    "    __chronione_pole = \"To jest chronione pole\"\n",
    "    \n",
    "class PrzykladowaKlasaDziedziczaca(PrzykladowaKlasa):\n",
    "    pass # Oznacza, że nie definiujemy żadnych pól i atrybutów\n",
    "    "
   ]
  },
  {
   "cell_type": "code",
   "execution_count": null,
   "metadata": {},
   "outputs": [],
   "source": [
    "instancja = PrzykladowaKlasaDziedziczaca()"
   ]
  },
  {
   "cell_type": "code",
   "execution_count": null,
   "metadata": {},
   "outputs": [],
   "source": [
    "PrzykladowaKlasa.__dict__"
   ]
  },
  {
   "cell_type": "code",
   "execution_count": null,
   "metadata": {},
   "outputs": [],
   "source": [
    "instancja.__chronione_pole # Dostaniemy błąd"
   ]
  },
  {
   "cell_type": "code",
   "execution_count": null,
   "metadata": {},
   "outputs": [],
   "source": [
    "PrzykladowaKlasaDziedziczaca.__dict__"
   ]
  },
  {
   "cell_type": "code",
   "execution_count": 21,
   "metadata": {},
   "outputs": [
    {
     "data": {
      "text/plain": [
       "'To jest chronione pole'"
      ]
     },
     "execution_count": 21,
     "metadata": {},
     "output_type": "execute_result"
    }
   ],
   "source": [
    "instancja._PrzykladowaKlasa__chronione_pole # Wydrukuje \"To jest chronione pole\""
   ]
  },
  {
   "cell_type": "code",
   "execution_count": null,
   "metadata": {},
   "outputs": [],
   "source": []
  }
 ],
 "metadata": {
  "kernelspec": {
   "display_name": "Python 3",
   "language": "python",
   "name": "python3"
  },
  "language_info": {
   "codemirror_mode": {
    "name": "ipython",
    "version": 3
   },
   "file_extension": ".py",
   "mimetype": "text/x-python",
   "name": "python",
   "nbconvert_exporter": "python",
   "pygments_lexer": "ipython3",
   "version": "3.8.0"
  }
 },
 "nbformat": 4,
 "nbformat_minor": 4
}
