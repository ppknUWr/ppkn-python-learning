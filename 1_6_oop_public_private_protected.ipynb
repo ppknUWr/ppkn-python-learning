{
 "cells": [
  {
   "cell_type": "markdown",
   "metadata": {},
   "source": [
    "### Dostęp do atrybutów w Pythonie\n",
    "\n",
    "Według paradygmatu wielu języków (C++, C#, Java) można zdefiniować w polach, lub metodach klasy dostęp do nich. Wyróżniamy trzy: public, private i protected. Nie będę się nad tym rozwodzić, ponieważ w Pythonie tego nie ma i domyślnie, **WSZYSTKIE POLA I METODY SĄ PUBLICZNE!**\n",
    "\n",
    "Jedyna co, to istnieje konwencja, że pola i metody, które chcemy oznaczać jako prywante, poprzedzamy \"_\",\n",
    "Natomiast oznaczone jako protected, poprzedzamy \"__\""
   ]
  },
  {
   "cell_type": "code",
   "execution_count": 1,
   "metadata": {},
   "outputs": [
    {
     "name": "stdout",
     "output_type": "stream",
     "text": [
      "The history saving thread hit an unexpected error (DatabaseError('database disk image is malformed')).History will not be written to the database.\n"
     ]
    }
   ],
   "source": [
    "class PrzykladowaKlasa:\n",
    "    \n",
    "    _prywatne_pole = \"To jest prywatne pole\"\n",
    "    \n",
    "class PrzykladowaKlasaDziedziczaca(PrzykladowaKlasa):\n",
    "    pass # Oznacza, że nie definiujemy żadnych pól i atrybutów\n",
    "    "
   ]
  },
  {
   "cell_type": "code",
   "execution_count": 2,
   "metadata": {},
   "outputs": [],
   "source": [
    "instancja = PrzykladowaKlasaDziedziczaca()"
   ]
  },
  {
   "cell_type": "code",
   "execution_count": 3,
   "metadata": {},
   "outputs": [
    {
     "data": {
      "text/plain": [
       "mappingproxy({'__module__': '__main__',\n",
       "              '_prywatne_pole': 'To jest prywatne pole',\n",
       "              '__dict__': <attribute '__dict__' of 'PrzykladowaKlasa' objects>,\n",
       "              '__weakref__': <attribute '__weakref__' of 'PrzykladowaKlasa' objects>,\n",
       "              '__doc__': None})"
      ]
     },
     "execution_count": 3,
     "metadata": {},
     "output_type": "execute_result"
    }
   ],
   "source": [
    "PrzykladowaKlasa.__dict__"
   ]
  },
  {
   "cell_type": "code",
   "execution_count": 4,
   "metadata": {},
   "outputs": [
    {
     "data": {
      "text/plain": [
       "'To jest prywatne pole'"
      ]
     },
     "execution_count": 4,
     "metadata": {},
     "output_type": "execute_result"
    }
   ],
   "source": [
    "instancja._prywatne_pole # Dostaniemy wynik \"To jest prywatne pole\""
   ]
  },
  {
   "cell_type": "code",
   "execution_count": 5,
   "metadata": {},
   "outputs": [],
   "source": [
    "class PrzykladowaKlasa:\n",
    "    \n",
    "    __chronione_pole = \"To jest chronione pole\"\n",
    "    \n",
    "class PrzykladowaKlasaDziedziczaca(PrzykladowaKlasa):\n",
    "    pass # Oznacza, że nie definiujemy żadnych pól i atrybutów\n",
    "    "
   ]
  },
  {
   "cell_type": "code",
   "execution_count": 6,
   "metadata": {},
   "outputs": [],
   "source": [
    "instancja = PrzykladowaKlasaDziedziczaca()"
   ]
  },
  {
   "cell_type": "code",
   "execution_count": 7,
   "metadata": {},
   "outputs": [
    {
     "data": {
      "text/plain": [
       "mappingproxy({'__module__': '__main__',\n",
       "              '_PrzykladowaKlasa__chronione_pole': 'To jest chronione pole',\n",
       "              '__dict__': <attribute '__dict__' of 'PrzykladowaKlasa' objects>,\n",
       "              '__weakref__': <attribute '__weakref__' of 'PrzykladowaKlasa' objects>,\n",
       "              '__doc__': None})"
      ]
     },
     "execution_count": 7,
     "metadata": {},
     "output_type": "execute_result"
    }
   ],
   "source": [
    "PrzykladowaKlasa.__dict__"
   ]
  },
  {
   "cell_type": "code",
   "execution_count": 8,
   "metadata": {},
   "outputs": [
    {
     "ename": "AttributeError",
     "evalue": "'PrzykladowaKlasaDziedziczaca' object has no attribute '__chronione_pole'",
     "output_type": "error",
     "traceback": [
      "\u001b[0;31m---------------------------------------------------------------------------\u001b[0m",
      "\u001b[0;31mAttributeError\u001b[0m                            Traceback (most recent call last)",
      "\u001b[0;32m<ipython-input-8-a7b3975c4108>\u001b[0m in \u001b[0;36m<module>\u001b[0;34m\u001b[0m\n\u001b[0;32m----> 1\u001b[0;31m \u001b[0minstancja\u001b[0m\u001b[0;34m.\u001b[0m\u001b[0m__chronione_pole\u001b[0m \u001b[0;31m# Dostaniemy błąd\u001b[0m\u001b[0;34m\u001b[0m\u001b[0;34m\u001b[0m\u001b[0m\n\u001b[0m",
      "\u001b[0;31mAttributeError\u001b[0m: 'PrzykladowaKlasaDziedziczaca' object has no attribute '__chronione_pole'"
     ]
    }
   ],
   "source": [
    "instancja.__chronione_pole # Dostaniemy błąd"
   ]
  },
  {
   "cell_type": "code",
   "execution_count": 9,
   "metadata": {},
   "outputs": [
    {
     "data": {
      "text/plain": [
       "mappingproxy({'__module__': '__main__', '__doc__': None})"
      ]
     },
     "execution_count": 9,
     "metadata": {},
     "output_type": "execute_result"
    }
   ],
   "source": [
    "PrzykladowaKlasaDziedziczaca.__dict__"
   ]
  },
  {
   "cell_type": "code",
   "execution_count": 10,
   "metadata": {},
   "outputs": [
    {
     "data": {
      "text/plain": [
       "'To jest chronione pole'"
      ]
     },
     "execution_count": 10,
     "metadata": {},
     "output_type": "execute_result"
    }
   ],
   "source": [
    "instancja._PrzykladowaKlasa__chronione_pole # Wydrukuje \"To jest chronione pole\""
   ]
  },
  {
   "cell_type": "code",
   "execution_count": null,
   "metadata": {},
   "outputs": [],
   "source": []
  }
 ],
 "metadata": {
  "kernelspec": {
   "display_name": "Python 3",
   "language": "python",
   "name": "python3"
  },
  "language_info": {
   "codemirror_mode": {
    "name": "ipython",
    "version": 3
   },
   "file_extension": ".py",
   "mimetype": "text/x-python",
   "name": "python",
   "nbconvert_exporter": "python",
   "pygments_lexer": "ipython3",
   "version": "3.8.0"
  }
 },
 "nbformat": 4,
 "nbformat_minor": 4
}
